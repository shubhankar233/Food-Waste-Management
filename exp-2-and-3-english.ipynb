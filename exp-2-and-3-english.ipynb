{
 "cells": [
  {
   "cell_type": "code",
   "execution_count": 1,
   "id": "b613fc6b",
   "metadata": {
    "_cell_guid": "83f5176f-8b72-44a4-be1c-3f197e40dae9",
    "_uuid": "85bd1a88-5ac7-4e28-ae79-9ffaeac94ed3",
    "collapsed": false,
    "execution": {
     "iopub.execute_input": "2024-07-17T11:10:22.178105Z",
     "iopub.status.busy": "2024-07-17T11:10:22.177237Z",
     "iopub.status.idle": "2024-07-17T11:10:23.067681Z",
     "shell.execute_reply": "2024-07-17T11:10:23.066100Z"
    },
    "jupyter": {
     "outputs_hidden": false
    },
    "papermill": {
     "duration": 0.902502,
     "end_time": "2024-07-17T11:10:23.070419",
     "exception": false,
     "start_time": "2024-07-17T11:10:22.167917",
     "status": "completed"
    },
    "tags": []
   },
   "outputs": [
    {
     "name": "stdout",
     "output_type": "stream",
     "text": [
      "/kaggle/input/poem-classification-nlp/Poem_classification - test_data.csv\n",
      "/kaggle/input/poem-classification-nlp/Poem_classification - train_data.csv\n",
      "/kaggle/input/shinzo-abe-japanese-prime-minister-twitter-nlp/Shinzo Abe Tweet 20171024 - Tweet.csv\n"
     ]
    }
   ],
   "source": [
    "# This Python 3 environment comes with many helpful analytics libraries installed\n",
    "# It is defined by the kaggle/python Docker image: https://github.com/kaggle/docker-python\n",
    "# For example, here's several helpful packages to load\n",
    "\n",
    "import numpy as np # linear algebra\n",
    "import pandas as pd # data processing, CSV file I/O (e.g. pd.read_csv)\n",
    "\n",
    "# Input data files are available in the read-only \"../input/\" directory\n",
    "# For example, running this (by clicking run or pressing Shift+Enter) will list all files under the input directory\n",
    "\n",
    "import os\n",
    "for dirname, _, filenames in os.walk('/kaggle/input'):\n",
    "    for filename in filenames:\n",
    "        print(os.path.join(dirname, filename))\n",
    "\n",
    "# You can write up to 20GB to the current directory (/kaggle/working/) that gets preserved as output when you create a version using \"Save & Run All\" \n",
    "# You can also write temporary files to /kaggle/temp/, but they won't be saved outside of the current session"
   ]
  },
  {
   "cell_type": "markdown",
   "id": "f658db1f",
   "metadata": {
    "_cell_guid": "18892ac6-7d6d-45f6-9059-d0d7a2171af3",
    "_uuid": "73003e7d-411d-40d2-91f5-1575687d56f3",
    "papermill": {
     "duration": 0.0077,
     "end_time": "2024-07-17T11:10:23.084845",
     "exception": false,
     "start_time": "2024-07-17T11:10:23.077145",
     "status": "completed"
    },
    "tags": []
   },
   "source": [
    "# EXP 2 :- English Dataset"
   ]
  },
  {
   "cell_type": "code",
   "execution_count": 2,
   "id": "82d77100",
   "metadata": {
    "_cell_guid": "649474be-d1bf-484a-9319-550bf2b92baa",
    "_uuid": "e7de4518-1f20-4abd-a5cf-91373c083e10",
    "collapsed": false,
    "execution": {
     "iopub.execute_input": "2024-07-17T11:10:23.102124Z",
     "iopub.status.busy": "2024-07-17T11:10:23.101580Z",
     "iopub.status.idle": "2024-07-17T11:10:23.123241Z",
     "shell.execute_reply": "2024-07-17T11:10:23.122001Z"
    },
    "jupyter": {
     "outputs_hidden": false
    },
    "papermill": {
     "duration": 0.032871,
     "end_time": "2024-07-17T11:10:23.126163",
     "exception": false,
     "start_time": "2024-07-17T11:10:23.093292",
     "status": "completed"
    },
    "tags": []
   },
   "outputs": [],
   "source": [
    "data = pd.read_csv(\"/kaggle/input/poem-classification-nlp/Poem_classification - test_data.csv\")"
   ]
  },
  {
   "cell_type": "code",
   "execution_count": 3,
   "id": "7df27b33",
   "metadata": {
    "_cell_guid": "034338b2-06df-4ecd-a8f7-f0e5ac69b06e",
    "_uuid": "a598c98d-5f2d-401c-8dab-996775280aec",
    "collapsed": false,
    "execution": {
     "iopub.execute_input": "2024-07-17T11:10:23.141074Z",
     "iopub.status.busy": "2024-07-17T11:10:23.140639Z",
     "iopub.status.idle": "2024-07-17T11:10:23.170088Z",
     "shell.execute_reply": "2024-07-17T11:10:23.168762Z"
    },
    "jupyter": {
     "outputs_hidden": false
    },
    "papermill": {
     "duration": 0.039978,
     "end_time": "2024-07-17T11:10:23.172722",
     "exception": false,
     "start_time": "2024-07-17T11:10:23.132744",
     "status": "completed"
    },
    "tags": []
   },
   "outputs": [
    {
     "data": {
      "text/html": [
       "<div>\n",
       "<style scoped>\n",
       "    .dataframe tbody tr th:only-of-type {\n",
       "        vertical-align: middle;\n",
       "    }\n",
       "\n",
       "    .dataframe tbody tr th {\n",
       "        vertical-align: top;\n",
       "    }\n",
       "\n",
       "    .dataframe thead th {\n",
       "        text-align: right;\n",
       "    }\n",
       "</style>\n",
       "<table border=\"1\" class=\"dataframe\">\n",
       "  <thead>\n",
       "    <tr style=\"text-align: right;\">\n",
       "      <th></th>\n",
       "      <th>Genre</th>\n",
       "      <th>Poem</th>\n",
       "    </tr>\n",
       "  </thead>\n",
       "  <tbody>\n",
       "    <tr>\n",
       "      <th>0</th>\n",
       "      <td>Music</td>\n",
       "      <td>A woman walks by the bench I’m sitting onwith ...</td>\n",
       "    </tr>\n",
       "    <tr>\n",
       "      <th>1</th>\n",
       "      <td>Music</td>\n",
       "      <td>Because I am a boy, the untouchability of beau...</td>\n",
       "    </tr>\n",
       "    <tr>\n",
       "      <th>2</th>\n",
       "      <td>Music</td>\n",
       "      <td>Because today we did not leave this world,We n...</td>\n",
       "    </tr>\n",
       "    <tr>\n",
       "      <th>3</th>\n",
       "      <td>Music</td>\n",
       "      <td>Big Bend has been here, been here. Shouldn’t i...</td>\n",
       "    </tr>\n",
       "    <tr>\n",
       "      <th>4</th>\n",
       "      <td>Music</td>\n",
       "      <td>I put shells there, along the lip of the road....</td>\n",
       "    </tr>\n",
       "    <tr>\n",
       "      <th>...</th>\n",
       "      <td>...</td>\n",
       "      <td>...</td>\n",
       "    </tr>\n",
       "    <tr>\n",
       "      <th>145</th>\n",
       "      <td>Environment</td>\n",
       "      <td>To pick a tulip from the garden, the red one. ...</td>\n",
       "    </tr>\n",
       "    <tr>\n",
       "      <th>146</th>\n",
       "      <td>Environment</td>\n",
       "      <td>We are as clouds that veil the midnight moon; ...</td>\n",
       "    </tr>\n",
       "    <tr>\n",
       "      <th>147</th>\n",
       "      <td>Environment</td>\n",
       "      <td>When pulled, the spider web took another form....</td>\n",
       "    </tr>\n",
       "    <tr>\n",
       "      <th>148</th>\n",
       "      <td>Environment</td>\n",
       "      <td>Whose woods these are I think I know. His hous...</td>\n",
       "    </tr>\n",
       "    <tr>\n",
       "      <th>149</th>\n",
       "      <td>Environment</td>\n",
       "      <td>you can make the maples blazejust by stopping ...</td>\n",
       "    </tr>\n",
       "  </tbody>\n",
       "</table>\n",
       "<p>150 rows × 2 columns</p>\n",
       "</div>"
      ],
      "text/plain": [
       "           Genre                                               Poem\n",
       "0          Music  A woman walks by the bench I’m sitting onwith ...\n",
       "1          Music  Because I am a boy, the untouchability of beau...\n",
       "2          Music  Because today we did not leave this world,We n...\n",
       "3          Music  Big Bend has been here, been here. Shouldn’t i...\n",
       "4          Music  I put shells there, along the lip of the road....\n",
       "..           ...                                                ...\n",
       "145  Environment  To pick a tulip from the garden, the red one. ...\n",
       "146  Environment  We are as clouds that veil the midnight moon; ...\n",
       "147  Environment  When pulled, the spider web took another form....\n",
       "148  Environment  Whose woods these are I think I know. His hous...\n",
       "149  Environment  you can make the maples blazejust by stopping ...\n",
       "\n",
       "[150 rows x 2 columns]"
      ]
     },
     "execution_count": 3,
     "metadata": {},
     "output_type": "execute_result"
    }
   ],
   "source": [
    "data"
   ]
  },
  {
   "cell_type": "code",
   "execution_count": 4,
   "id": "2aa24e3e",
   "metadata": {
    "execution": {
     "iopub.execute_input": "2024-07-17T11:10:23.188847Z",
     "iopub.status.busy": "2024-07-17T11:10:23.187792Z",
     "iopub.status.idle": "2024-07-17T11:10:30.102229Z",
     "shell.execute_reply": "2024-07-17T11:10:30.101049Z"
    },
    "papermill": {
     "duration": 6.92556,
     "end_time": "2024-07-17T11:10:30.105114",
     "exception": false,
     "start_time": "2024-07-17T11:10:23.179554",
     "status": "completed"
    },
    "tags": []
   },
   "outputs": [],
   "source": [
    "import spacy\n",
    "nlp = spacy.load(\"en_core_web_sm\")\n",
    "\n"
   ]
  },
  {
   "cell_type": "code",
   "execution_count": 5,
   "id": "ef3d0050",
   "metadata": {
    "_cell_guid": "4a0652cd-cedd-4403-beef-792f6101643d",
    "_uuid": "4880ee13-d0ac-4ec0-93b9-78b9e1d479e1",
    "collapsed": false,
    "execution": {
     "iopub.execute_input": "2024-07-17T11:10:30.121061Z",
     "iopub.status.busy": "2024-07-17T11:10:30.120411Z",
     "iopub.status.idle": "2024-07-17T11:10:30.126263Z",
     "shell.execute_reply": "2024-07-17T11:10:30.125173Z"
    },
    "jupyter": {
     "outputs_hidden": false
    },
    "papermill": {
     "duration": 0.01647,
     "end_time": "2024-07-17T11:10:30.128675",
     "exception": false,
     "start_time": "2024-07-17T11:10:30.112205",
     "status": "completed"
    },
    "tags": []
   },
   "outputs": [],
   "source": [
    "def tokenise(text):\n",
    "    doc = nlp(text)\n",
    "    return [tokens.text for tokens in doc]"
   ]
  },
  {
   "cell_type": "code",
   "execution_count": 6,
   "id": "309d9e63",
   "metadata": {
    "_cell_guid": "50a4e41b-7610-4e54-9aa5-19e318b85a46",
    "_uuid": "5542af61-4c9e-4724-aa28-ca4365dba181",
    "collapsed": false,
    "execution": {
     "iopub.execute_input": "2024-07-17T11:10:30.144108Z",
     "iopub.status.busy": "2024-07-17T11:10:30.143661Z",
     "iopub.status.idle": "2024-07-17T11:10:33.113111Z",
     "shell.execute_reply": "2024-07-17T11:10:33.112017Z"
    },
    "jupyter": {
     "outputs_hidden": false
    },
    "papermill": {
     "duration": 2.980495,
     "end_time": "2024-07-17T11:10:33.115927",
     "exception": false,
     "start_time": "2024-07-17T11:10:30.135432",
     "status": "completed"
    },
    "tags": []
   },
   "outputs": [],
   "source": [
    "data['tokens'] = data['Poem'].apply(tokenise)"
   ]
  },
  {
   "cell_type": "markdown",
   "id": "6fae9c8d",
   "metadata": {
    "_cell_guid": "dc765dcd-f1cb-4ad9-bb1b-e1aa8183d0b5",
    "_uuid": "4dea18f4-24ba-488b-9181-aadf863f6b3b",
    "papermill": {
     "duration": 0.006238,
     "end_time": "2024-07-17T11:10:33.129043",
     "exception": false,
     "start_time": "2024-07-17T11:10:33.122805",
     "status": "completed"
    },
    "tags": []
   },
   "source": [
    "## Tokenisation and filteration"
   ]
  },
  {
   "cell_type": "code",
   "execution_count": 7,
   "id": "df161a16",
   "metadata": {
    "_cell_guid": "60074a62-30dc-4c97-9b49-d233881a6dbd",
    "_uuid": "f5fa146c-6805-4e5e-8fb5-d110efec5589",
    "collapsed": false,
    "execution": {
     "iopub.execute_input": "2024-07-17T11:10:33.144576Z",
     "iopub.status.busy": "2024-07-17T11:10:33.144147Z",
     "iopub.status.idle": "2024-07-17T11:10:33.157324Z",
     "shell.execute_reply": "2024-07-17T11:10:33.155798Z"
    },
    "jupyter": {
     "outputs_hidden": false
    },
    "papermill": {
     "duration": 0.024132,
     "end_time": "2024-07-17T11:10:33.159822",
     "exception": false,
     "start_time": "2024-07-17T11:10:33.135690",
     "status": "completed"
    },
    "tags": []
   },
   "outputs": [
    {
     "name": "stdout",
     "output_type": "stream",
     "text": [
      "0      [A, woman, walks, by, the, bench, I, ’m, sitti...\n",
      "1      [Because, I, am, a, boy, ,, the, untouchabilit...\n",
      "2      [Because, today, we, did, not, leave, this, wo...\n",
      "3      [Big, Bend, has, been, here, ,, been, here, .,...\n",
      "4      [I, put, shells, there, ,, along, the, lip, of...\n",
      "                             ...                        \n",
      "145    [To, pick, a, tulip, from, the, garden, ,, the...\n",
      "146    [We, are, as, clouds, that, veil, the, midnigh...\n",
      "147    [When, pulled, ,, the, spider, web, took, anot...\n",
      "148    [Whose, woods, these, are, I, think, I, know, ...\n",
      "149    [you, can, make, the, maples, blazejust, by, s...\n",
      "Name: tokens, Length: 150, dtype: object\n"
     ]
    }
   ],
   "source": [
    "print(data['tokens'])"
   ]
  },
  {
   "cell_type": "markdown",
   "id": "adff4289",
   "metadata": {
    "_cell_guid": "89997253-143f-42bf-9fb3-5358943f5ab8",
    "_uuid": "436a1d20-631d-4f95-a5e9-7b40ae46b776",
    "papermill": {
     "duration": 0.00638,
     "end_time": "2024-07-17T11:10:33.172951",
     "exception": false,
     "start_time": "2024-07-17T11:10:33.166571",
     "status": "completed"
    },
    "tags": []
   },
   "source": [
    "## Exp 3 English DATASET"
   ]
  },
  {
   "cell_type": "code",
   "execution_count": 8,
   "id": "cdc4f01c",
   "metadata": {
    "execution": {
     "iopub.execute_input": "2024-07-17T11:10:33.188039Z",
     "iopub.status.busy": "2024-07-17T11:10:33.187598Z",
     "iopub.status.idle": "2024-07-17T11:11:15.392460Z",
     "shell.execute_reply": "2024-07-17T11:11:15.391086Z"
    },
    "papermill": {
     "duration": 42.221635,
     "end_time": "2024-07-17T11:11:15.401170",
     "exception": false,
     "start_time": "2024-07-17T11:10:33.179535",
     "status": "completed"
    },
    "tags": []
   },
   "outputs": [
    {
     "name": "stdout",
     "output_type": "stream",
     "text": [
      "[nltk_data] Error loading stopwords: <urlopen error [Errno -3]\n",
      "[nltk_data]     Temporary failure in name resolution>\n",
      "[nltk_data] Error loading punkt: <urlopen error [Errno -3] Temporary\n",
      "[nltk_data]     failure in name resolution>\n"
     ]
    },
    {
     "data": {
      "text/plain": [
       "False"
      ]
     },
     "execution_count": 8,
     "metadata": {},
     "output_type": "execute_result"
    }
   ],
   "source": [
    "from nltk.corpus import stopwords\n",
    "from nltk.tokenize import word_tokenize\n",
    "import nltk\n",
    "nltk.download('stopwords')\n",
    "nltk.download('punkt')\n"
   ]
  },
  {
   "cell_type": "code",
   "execution_count": 9,
   "id": "c5d5e5c2",
   "metadata": {
    "execution": {
     "iopub.execute_input": "2024-07-17T11:11:15.417920Z",
     "iopub.status.busy": "2024-07-17T11:11:15.417052Z",
     "iopub.status.idle": "2024-07-17T11:11:15.423650Z",
     "shell.execute_reply": "2024-07-17T11:11:15.422533Z"
    },
    "papermill": {
     "duration": 0.017502,
     "end_time": "2024-07-17T11:11:15.425992",
     "exception": false,
     "start_time": "2024-07-17T11:11:15.408490",
     "status": "completed"
    },
    "tags": []
   },
   "outputs": [],
   "source": [
    "def stopwordremowal(text):\n",
    "    stop_words = set(stopwords.words('english'))\n",
    "    word_tokens = word_tokenize(text)\n",
    "    filtered_text = [word for word in word_tokens if word.lower() not in stop_words]\n",
    "\n",
    "    print(filtered_text)\n"
   ]
  },
  {
   "cell_type": "code",
   "execution_count": 10,
   "id": "06ebcdb3",
   "metadata": {
    "execution": {
     "iopub.execute_input": "2024-07-17T11:11:15.441738Z",
     "iopub.status.busy": "2024-07-17T11:11:15.441317Z",
     "iopub.status.idle": "2024-07-17T11:11:15.613057Z",
     "shell.execute_reply": "2024-07-17T11:11:15.611801Z"
    },
    "papermill": {
     "duration": 0.182965,
     "end_time": "2024-07-17T11:11:15.616006",
     "exception": false,
     "start_time": "2024-07-17T11:11:15.433041",
     "status": "completed"
    },
    "tags": []
   },
   "outputs": [
    {
     "name": "stdout",
     "output_type": "stream",
     "text": [
      "['woman', 'walks', 'bench', '’', 'sitting', 'onwith', 'dog', 'looks', 'part', 'Lab', ',', 'part', 'Buick', ',', 'stops', 'asks', 'would', 'like', 'dance.I', 'smile', ',', 'tell', 'course', '.', 'decideon', 'waltz', 'begins', 'hum', '.']\n",
      "['boy', ',', 'untouchability', 'beautyis', 'subject', 'already', ',', 'book', 'statuesopen', 'lap', ',', 'middle', 'October', ',', 'leavesfoiling', 'wet', 'groundin', 'soft', 'copper', '.', '“', 'statuemust', 'beautifulfrom', 'sides', ',', '”', 'Cellini', 'wrote', '1558.When', 'close', 'book', ',', 'bodies', 'touch', '.', 'west', ',', 'tying']\n",
      "['today', 'leave', 'world', ',', 'embody', 'prominence', 'within', ',', 'Even', 'amidst', 'indifference', 'actions', ',', 'Whether', 'noiseless', 'not.After', ',', 'nonsense', 'type', 'silence', ',', 'Lasting', 'long', 'snow', 'yourTongue', '.', 'wonder', 'eveningMust', 'filled', 'turning']\n",
      "['Big', 'Bend', ',', '.', '’', 'say', '?', 'Call', 'mountains', 'wall', 'must', ',', '(', 'river', 'never', 'wall', ')', ',', 'leavened', 'air', 'soaking', 'equally', ',', 'could', 'homewe', 'ache', '?', 'Silent', 'light', 'bathing', 'cliff', 'faces', ',', 'dunes', 'alteringin', 'darkness', ',', 'stones', 'speaking', 'low']\n",
      "['put', 'shells', ',', 'along', 'lip', 'road.Bivalves', 'last', 'summer', '’', 'dinners', '.', 'dog', 'eatsa', 'charred', 'rock', '.', 'begun', 'practicing', 'eat']\n",
      "['thought', 'would', 'write', 'novelabout', 'window', 'shadowset', 'two-story', 'house.Cézanne', 'stands', 'sunchoke', 'hedge', ',', 'alone', 'licking', 'brushamong', 'tree', '’', 'traces', 'changing', 'shade.The', 'woman—I', 'named', 'herand', 'almost', 'saw', 'her—could', 'beflapping', 'pillowcase', 'shutteras', 'though', 'fanning', 'firethat', 'takes', 'frame']\n",
      "['afraid', 'past', 'would', 'catch', ',', 'would', 'find', 'new', 'house', 'like', 'scarredold', 'childhood', 'home', '.', '’', 'yet', '.', 'treecasts', 'soft', 'gentle', 'shade', 'green', 'yard.I', 'feel', 'forgiven', 'sins', '’', 'commitfor', 'long', 'minutes', 'time', '.', '?']\n",
      "['Let', 'us', 'enter', '.', 'context', 'paragraph', ',', 'hurtling', 'backward', 'space', ',', 'toward', 'smallopening', ':', 'press', 'hand', 'lip', 'bite', '.', 'bitemy', 'spine', '.', 'Ben', 'jawline', 'stellar', '.', 'Ben', 'curlicue.His', 'cellphone', 'iPhone', '.', 'everyone', '’', 'iPhone', ',', 'hand', ',']\n",
      "['fuchsia', 'funnels', 'breaking', 'outof', 'crabapple', 'tree', ',', 'neighbor', '’', 'salmost', 'obscene', 'display', 'cherry', 'limbs', 'shovingtheir', 'cotton', 'candy-colored', 'blossoms', 'slatesky', 'Spring', 'rains', ',', '’', 'greening', 'treesthat', 'really', 'gets', '.', 'shock', 'whiteand', 'taffy', ',', 'world', '’', 'baubles']\n",
      "['strawberry', 'moon', ',', 'tonight', '.', 'strawberry', 'moon', '.', 'small', 'house', 'creaks', 'walk', 'open', '.', 'weigh', ',', 'goddess', 'tonight', '.', 'Goddess', 'godless', '.', 'God', 'sleeping', 'children', '’', 'presence', 'tonight', '.', 'use', 'words', 'like', 'god', '’', 'seen']\n",
      "['Somewhere', 'someone', 'risesfar', 'earlier', 'beforethe', 'faintest', 'glimmer', 'bluesthe', 'darkest', 'dark', 'wakenswithout', 'alarm', 'without', 'bodyroused', 'nightingalesneighbor', 'friend', 'strangerwho', \"n't\", 'seen', 'sunlitchildren', 'faces', 'cold', 'sinkoh', 'caffeinated', 'sleepwalkermarch', 'daily', 'industry', 'withnecessity', 'one', 'flightthen', 'two', 'heaven', 'insomeone', 'warm', 'beside']\n",
      "['mention', 'ravages', ',', 'mean', 'say', ',', 'then.I', 'mean', 'say', 'rough-hewn', 'edges', 'time', 'space', ',', 'continuum', 'folds', 'back', 'furtive', 'attemptsto', 'witness', ',', ',', '.']\n",
      "['Remember', 'took', 'separate', 'flights', 'imagining', 'worst', ':', 'plane', 'gone', ',', 'children', 'young', ',', 'alone', '?', '’', 'leave', 'hour', ',', 'wait', 'meet', 'gate', ',', '’', 'go', 'first', ',', 'arrive', 'rent', 'car', ',', 'meet', 'exit', '.', ',', 'blue', 'emptiness', ',', 'lives', 'suspended', 'clouds', 'stacked']\n",
      "['Since', 'phlox', 'dying', 'daisies', 'bright', 'bodies', 'shattered', 'wind', ',', 'go', 'among', 'last', 'dancers', ',', 'cutting', 'ground', 'withered', 'asters', ',', 'spent', 'stalks', 'lilies', ',', 'black', 'rose', ',', 'see', 'spring', ',', 'time', 'eagerness', 'blossoms', ',', 'knowing']\n",
      "['Time', 'call', 'skirling', 'ghosts', ',', 'count', 'like', 'beads', 'abacus', ',', 'disappointments.This', 'day', 'began', 'order', 'Resuscitate', 'accepted', 'crisply', 'phone.Now', 'also', 'move', 'toward', 'elegy', ',', 'ask', 'forgiveness']\n",
      "['Behind', 'disinfected', 'curtains', ',', 'beyond', 'touch', 'sunrise', 'devouring', 'terrible', 'gold', 'leaves', ',', 'man', 'could', 'eternal', 'night', '.', 'City']\n",
      "['love', ',', 'love', ';', 'shall', 'dareTo', 'chide', 'loving', 'old', 'arm-chair', '?', '’', 'treasured', 'long', 'sainted', 'prize', ',', '’', 'bedew', '’', 'tears', ',', 'embalmed', 'sighs', ';', '’', 'Tis', 'bound', 'thousand', 'bands', 'heart', ';', 'tie', 'break', ',', 'link', 'start.Would']\n",
      "['line', 'poem', 'could', 'true', 'beginning', '.', 'moment', 'could', 'know', 'every', 'moment', 'could', 'hold', 'way', 'wish', ',', 'way', 'keep', 'imagining', '.', '’', 'care', 'anyone', 'says', 'impossibility', ',', 'step']\n",
      "['Listen', ',', 'children', ':', 'father', 'dead', '.', 'old', 'coats', \"'ll\", 'make', 'little', 'jackets', ';', \"'ll\", 'make', 'little', 'trousers', 'old', 'pants', '.', \"'ll\", 'pockets', 'Things', 'used', 'put', ',', 'Keys', 'pennies', 'Covered', 'tobacco', ';', 'Dan', 'shall', 'pennies', 'save', 'bank', ';', 'Anne', 'shall', 'keys', 'make', 'pretty', 'noise', '.', 'Life', 'must']\n",
      "['words', 'dust', '.', 'would', 'build', 'star', ',', 'would', 'touch', 'heel', 'white', 'sun', ';', 'Staggering', 'inaccessible', 'sky', ',', 'look', 'upon', 'dust.The', 'stainless', 'clouds', 'go', 'mounting', 'shining', 'spires', ';', 'little', 'heap', 'dust', 'desires.Yet', ',', 'dwelling', 'long', 'upon', 'peaks', 'Unchained', 'upon', 'flickering', 'western', 'sky', ',']\n",
      "['Shiitake', ',', 'velvet', 'foot', ',', 'hen', 'woods', ',', 'woodear', ',', 'cloud', 'ear', ',', 'slippery', 'jack', ',', 'brown', 'wreathsof', 'Polish', 'borowik', 'dried', 'hangingin', 'stalls', 'Krakow', 'market—all', 'thesewere', 'years', 'away', 'room', 'layonce', ',', 'studying', 'contours', 'sexas', 'subterranean', 'speciesI', '’']\n",
      "['Somewhere', 'Nicaragua', 'Guatemala', ',', '’', 'matter', ',', 'wings', 'ache', 'much', 'wax', ',', 'much', 'discordin', 'father', '’', 'voice', ',', 'oncehe', 'fled', 'wards', 'state', 'air', '&', 'sky', ';', 'simple', 'exact', 'fell', 'clouds', ',', 'yet', 'one', 'cared', ';', 'hospitals', ',', 'impoverished']\n",
      "['deer', 'still', 'alive', 'roadside', 'grass', '.', 'hour', ',', \"'ll\", 'cut', 'open', ',', 'left', 'hip', 'broken', ',', 'bonein', 'dark', 'body', ';', 'white', 'Camaroshocked', 'night', 'boywet-faced', 'back', 'seat', ',', 'parents', 'lossby', 'hood', ',', 'youngto']\n",
      "['widower', 'silk', 'pajamas', 'slides', 'hand', 'along', 'glossy', 'blue', 'sleeve', ',', 'thinking', ',', 'Water', 'fabric', ',', 'rivulet', 'slipped', 'needle', '’', 'eye.He', '’', 'ripples', 'moves', ',', 'waves', 'breaking', 'flesh.He', 'read', 'paper', 'human', 'body', '80', 'percent', 'water', '.', 'almosta', 'brook', 'wanders', 'around', 'yard', ',', 'practically']\n",
      "['words', 'use', 'instill', 'sense', 'ineffable', 'Carry', 'us', 'journey', '’', 'mysterious', 'car', 'makes', 'sudden', 'left', 'turn', 'accelerates', 'child', 'road', 'leaps', 'mother', '’', 'embrace', 'deer', 'becomes', 'child', 'hit', 'brakes', 'panjandrum', 'driver', '’', 'seat']\n",
      "[\"''\", 'Tell', 'love', ',', '’', 'tell', '.', \"''\", '–', 'Creole', 'ProverbThe', 'man', 'whose', 'throat', 'blossoms', 'spicy', 'chocolatesTempers', 'ways', 'flurryingIs', 'inner', 'recesses', 'surfacingPaints', 'bedroom', 'blue', 'wants', 'carry', 'skiesPear', 'eater', 'orchardPossesses', 'Whitmanesque', 'urge', '&', 'urgencyBoo']\n",
      "['Geechee', 'Gullah', 'Ring', 'ShoutersOne', 'women', 'greeted', 'me.I', 'love', ',', 'said', '.', '’', 'tKnow', ',', 'believed', ',', 'terrible', 'new', 'acheRolled', 'chest', ',', 'Like', 'room', 'drapesHave', 'swept', 'back', '.', 'love', ',', 'love', ',']\n",
      "['rhyme', 'penned', ',', 'whose', 'luminous', 'eyes', ',', 'Brightly', 'expressive', 'twins', 'Loeda', ',', 'Shall', 'find', 'sweet', 'name', ',', ',', 'nestling', 'lies']\n",
      "['saw', 'thee', 'thy', 'bridal', 'day—When', 'burning', 'blush', 'came', '’', 'er', 'thee', ',', 'Though', 'happiness', 'around', 'thee', 'lay', ',', 'world', 'love', 'thee', ':']\n",
      "['THOU', 'wast', ',', 'love', ',', 'soul', 'pine—A', 'green', 'isle', 'sea', ',', 'love', ',', 'fountain', 'shrine', ',']\n",
      "['’', 'Tis', 'Christmas', 'weather', ',', 'country', 'house', 'Receives', 'us', ':', 'rooms', 'full', ':', 'get', 'attic-crib', '.', 'lovers', 'fret', ',', 'half-said', '.', 'great', 'carouse', 'Knocks', 'hard', 'upon', 'midnight', '’', 'hollow', 'door', ',', 'knock', ',', 'see', 'pit', '.', 'come', 'dullard', 'fit', '?']\n",
      "['``', 'Give', 'place', 'stand', ',', \"''\", 'Archimedes', 'said', ',', \"''\", 'move', 'world', '.', \"''\", 'Paradoxical', ',', 'clever', ',', 'remark', 'first', 'explained', 'use', 'leverwas', 'academic', 'joke', '.', 'deadsage', 'could', 'return', 'life', ',', 'would', 'find', 'cleardemonstration', 'idea', ',']\n",
      "['(', 'thee', 'praise', 'rivers', 'whose', 'white', 'voices', 'pass', 'upon', 'forgetting', '(', 'fail', ')', 'whose', 'courseless', 'waters', 'gloat', 'silver', ';', \"o'er\", 'whose', 'night', 'three', 'willows', 'wail', ',', 'slender', 'dimness', 'unshapeful', 'hour', 'making', 'dear', 'moan', 'tones', 'stroked', 'flower', ';', 'let', 'thy', 'lust', 'one', 'threaded', 'moment', 'lose', ':', 'haste', ')', 'shadowy', 'sheep', 'float', 'free', 'upon', 'terrific']\n",
      "['1.In', 'first', 'place—I', 'wanted', 'said', 'meant', 'say', '.', 'eyes', 'opened', 'beyond', 'open', 'force', 'would', 'unlock', 'side', 'daylight', 'gave', 'reasonfor', 'redress', '.']\n",
      "['1.Our', 'room', ',', 'says', 'lady', 'house', 'nicer', 'one', 'motel', \"'s\", 'right', 'second-storey', 'bay', 'windows', 'mushy', 'double']\n",
      "['good', 'way', 'fall', 'love', 'turn', 'headlights', 'drive', 'fast', 'dark', 'roads.Another', 'way', 'fall', 'love', 'say', 'mints', 'swallow', 'strong', 'drink.Then', 'autumn', 'body', '.', 'hands', 'cold', '.', 'winter']\n",
      "['Song', 'Wake', 'Dear', 'MorningI', 'kiss', 'locks', 'hair', ':', 'feel', ',', 'Sleepy', 'one', '?', 'put', 'kiss', 'brow', ':', 'waking', '?', 'Wo', \"n't\", 'wake', ',', 'sleepy', 'one', '?', 'kiss', 'left', 'eye', ';', 'right—', 'Closed', 'tight', ',', 'closed', 'tight', '!', 'Oh', ',', 'hard', 'one']\n",
      "['trio', 'instruments', 'love', 'notesindissectible', '&', 'extending', 'small', 'rockets', 'delightforce', 'love', ',', 'loved', ',', 'love', 'acceleratinglove', 'momentum', ',', 'love', 'travelwe', 'never', 'agree', 'world', 'containsso', 'much', 'phenomena', '’', 'put', 'glassesabstract', 'give', 'structure', 'make', 'frameinversely', 'proportional', 'square', 'oftwo', 'distances']\n",
      "['Woman', 'playing', ',', 'man', 'looking', ';', 'mould', 'face', ',', 'neck', ',', 'hair', ',', 'rays', 'fell', 'upon', 'two', 'candles', ',', 'Sent', 'mentally', 'straying', 'fancy-place', 'pain', 'trace.A', 'cowled', 'Apparition', 'Came', 'pushing', ';', 'notes', 'seemed', 'sigh', ';', 'lights', 'burn', 'pale', ',', 'spell']\n",
      "['five', 'times', 'poem', 'thy', 'remembrance', 'surprises', 'refrainof', 'unreasoning', 'summer', 'responding', 'ways', 'cloaked', 'renewal', 'body', 'turns', 'towardthee', 'againfor', 'stars', 'finished', 'nobler', 'trees', 'language', 'leaves', 'repeatseventual', 'perfection', 'east', 'deserves', 'dawn', ',', 'lie', 'length', ',', 'breathing', 'shut', 'eyesthe', 'sweet', 'earth']\n",
      "['thoughts', ',', 'passions', ',', 'delights', ',', 'Whatever', 'stirs', 'mortal', 'frame', ',', 'ministers', 'Love', ',', 'feed', 'sacred', 'flame.Oft', 'waking', 'dreams', 'Live', \"o'er\", 'happy', 'hour', ',', 'midway', 'mount', 'lay', ',', 'Beside', 'ruin', \"'d\", 'tower.The', 'moonshine', ',', 'stealing', \"o'er\", 'scene', ',', 'blended', 'lights', 'eve', ';']\n",
      "['yesterday', 'poured', ',', 'night', 'long', 'could', 'sleep', ';', 'rain', 'unceasing', 'beatUpon', 'shingled', 'roof', 'like', 'weird', 'song', ',', 'Upon', 'grass', 'like', 'running', 'children', '’', 'feet.And', 'mountains', 'dark', 'cloud', 'kissed', ',', 'Like', 'strange', 'shape', 'filmy', 'veiling', 'dressed', ',', 'Slid', 'slowly', ',']\n",
      "['Always', 'voice', 'soulhalf-beautiful', 'wholly', 'drollis', 'smooth', 'awkward', 'foal', ',', 'whereof', 'young', 'moons', 'beginthe', 'newness', 'skin', ',', 'stupid', 'sincere', 'youththe', 'exquisite', 'failure', 'uncouthdiscovers', 'trembling', 'smoothUnstrength', ',', 'strongsilences', 'song', ';']\n",
      "['Among', 'men', 'women', 'multitude', ',', 'perceive', 'one', 'picking', 'secret', 'divine', 'signs', ',', 'Acknowledging', 'none', 'else', ',', 'parent', ',', 'wife', ',', 'husband', ',', 'brother', ',', 'child', ',', 'nearer', ',', 'baffled', ',', 'one', 'not—that', 'one', 'knows', '.']\n",
      "['love', '?', 'doll', 'dress', '’', 'upFor', 'idleness', 'cosset', ',', 'nurse', ',', 'dandle', ';', 'thing', 'soft', 'misnomers', ',', 'divineThat', 'silly', 'youth', 'doth', 'think', 'make', 'itselfDivine', 'loving', ',', 'goes', 'onYawning', 'doting', 'whole', 'summer', 'long', ',', 'Till', 'Miss', '’', 'comb', 'made', 'pearl', 'tiara', ',', 'common', 'Wellingtons']\n",
      "['remember', ',', 'afternoonThe', 'sea', 'sky', 'went', 'grey', ',', 'sunkA', 'flocculent', 'dust', 'floor', 'world', ':', 'festoonOf', 'sky', 'sagged', 'dusty', 'spider', 'cloth', ',', 'coldness', 'clogged', 'sea', ',', 'till', 'ceased', 'croon', '.']\n",
      "['walked', 'one', 'evening', ',', 'Walking', 'Bristol', 'Street', ',', 'crowds', 'upon', 'pavementWere', 'fields', 'harvest', 'wheat.And', 'brimming', 'riverI', 'heard', 'lover', 'sing', 'arch', 'railway', ':', \"'Love\", 'ending', '.', \"'I\", \"'ll\", 'love', ',', 'dear', ',', \"'ll\"]\n",
      "['sea', 'marvelous', 'god', \"'s\", 'hands', 'sent', 'forth', 'sleep', 'upon', 'worldand', 'earth', 'withers', 'moon', 'crumbles', 'one', 'one', 'stars', 'flutter', 'dustbut', 'sea', 'change', 'goes', 'forth', 'hands', 'returns', 'handsand', 'sleep', '...', '.love', ',']\n",
      "['Back', 'head', 'like', 'egg', 'nest', 'vowel-keen', 'dawdling', ',', 'shed', 'slick', 'beautifuland', 'put', 'basket', 'laid', 'barefaced', 'riveramong', 'taxing', 'rocks', '.', 'beautiful', 'hushand', 'glitter', '.', 'moist', 'grasp', '.']\n",
      "['eternal', 'moods', 'bleak', 'wind', ',', 'notAs', 'transient', 'things', '–', 'gaiety', 'flowers.Have', 'strong', 'loneliness', 'sunless', 'cliffsAnd', 'grey', 'waters', '.', 'Let', 'gods', 'speak', 'softly', 'usIn', 'days', 'hereafter', ',', 'shadowy', 'flowers', 'OrcusRemember', 'Thee', '.']\n",
      "['love', ',', 'beneath', 'uncountable', 'starsI', 'become', 'delicate', 'piston', 'threading', 'chest', ',', 'want', 'tell', 'story', '’', ',', 'meantime', 'neglect', ',', 'Love', ',', 'discordant', 'melody', 'spilling', 'ears', 'attend', ',', 'instead', ',', 'tale', ',', 'river', 'burns']\n",
      "['day', 'loved', 'like', 'animal', 'loves', 'human', ',', 'way', 'articulate', 'bones', 'felt', 'bed', 'telephone', 'felt', 'strange', 'paw', '.', 'papa—', 'called', 'one—', 'one', 'understood', '.', '’', 'even', '.', 'wanted', 'caught', '.', 'Like', 'let']\n",
      "['Beneath', 'gold', 'acacia', 'buds', 'gentle', 'Nora', 'sits', 'broods', ',', 'Far', ',', 'far', 'away', 'Boston', 'woods', 'gentle', 'Nora', '!', 'see', 'tear-drop', \"e'e\", ',']\n",
      "['Beyond', 'cheat', 'Time', ',', 'died', ',', 'live', ';', 'pace', 'garden', 'walk', ',', 'secure', 'sensitive', ';', 'linger', 'stair', ':', 'Love', '’', 'lonely', 'pulses', 'leap', '!', 'harpsichord', 'shaken', ',', 'dogs', 'look', 'sleep', '.', ',', 'years', ',', 'keep', 'heirdom', 'still', ';', 'youth', 'joy']\n",
      "['Brothers', 'sisters', ',', 'know', '’', 'evening', '.', 'sad', 'news', 'traveled', 'fast', 'Brother', 'James', '’', 'capture', '.', 'three', 'years', 'lived', 'amongst', 'us', ',', 'tasting', 'happiness.His', 'wife', 'child', 'us', 'tonight', '.', 'God', 'bless', ',', 'Sister', '.', 'Without', 'goodbye', ',', 'James', 'handcuffed', ',', 'shoved', 'steamboat', 'Baltimore', ',']\n",
      "['BUSINESS', ',', 'thou', 'Plague', 'Pleasure', 'Life', ',', 'Thou', 'charming', 'Mistress', ',', 'thou', 'vexatious', 'Wife', ';', 'Thou', 'Enemy', ',', 'thou', 'Friend', ',', 'Joy', ',', 'Grief', ',', 'Thou', \"bring'st\", ',', \"bring'st\", 'Relief', ',', 'Thou', 'bitter', ',', 'sweet', ',', 'thou', 'pleasing', ',', 'teazing', 'Thing', ',', 'Thou', 'Bee', ',', 'thy', 'Honey', 'wears', 'Sting', ';', 'Respite', ',', 'prithee', ',', 'yet', 'give', ',']\n",
      "['Caliche', '.', 'Great', 'bird', ',', 'woodsmoke', ',', 'needle', '.', 'Snake', ',', 'owl', '.', 'Nopal', 'vibration.Almost', 'every', 'day']\n",
      "[\"Can'st\", 'thou', 'conjure', 'vanished', 'morn', 'spring', ',', 'bid', 'ashes', 'sunset', 'glow', 'redness', '?', 'strong', 'wringFrom', 'trodden', 'grapes', 'juice', 'drunk', 'long', 'ago', '?', 'leafy', 'longings', 'stir', 'Autumn', \"'s\", 'blood', ',']\n",
      "['Come', ',', 'maid', ',', 'yonder', 'mountain', 'height', ':', 'pleasure', 'lives', 'height', '(', 'shepherd', 'sang', ')', ',', 'height', 'cold', ',', 'splendour', 'hills', '?', 'cease', 'move', 'near', 'Heavens', ',', 'ceaseTo', 'glide', 'sunbeam', 'blasted', 'Pine', ',', 'sit', 'star', 'upon', 'sparkling', 'spire', ';', 'come', ',', 'Love']\n",
      "['Come', 'silence', 'night', ';', 'Come', 'speaking', 'silence', 'dream', ';', 'Come', 'soft', 'rounded', 'cheeks', 'eyes', 'bright', 'sunlight', 'stream', ';', 'Come', 'back', 'tears', ',', 'memory', ',', 'hope', ',', 'love']\n",
      "['Come', 'river', '’', 'side', ',', 'love', ',', 'light', 'canoe', 'shore', ',', '—We', '’', 'float', 'upon', 'tide', 'love', ',', 'thou', 'shalt', 'hold', 'dripping', 'oar.Methinks', 'thy', 'hand', 'could', 'guide', 'well', 'tiny', 'vessel', 'course', ';', 'waves', 'would', 'smooth', 'crests', 'thee', 'done']\n",
      "['Come', 'nights', 'bright', 'starsOr', 'moon', 'mellow', ';', 'Come', 'sun', 'golden', 'barsDrops', 'hay-field', 'yellow', '.', 'Come', 'twilight', 'soft', 'gray', ',', 'Come', 'night', 'come', 'day', ',', 'Come', ',', 'love', ',', \"whene'er\", 'may', ',']\n",
      "['Coming', 'end', ',', 'lovers', 'exhausted', 'like', 'two', 'swimmers.Where', 'end', '?', 'telling.No', 'love', 'Like', 'ocean', 'dizzy', 'procession', 'waves', \"'\", 'boundaries', 'two', 'emerge', 'exhausted', ',', 'long', 'goodbye', 'Like', 'death', '.', 'Coming', 'end.Rather', ',', 'would', 'say', ',']\n",
      "['consider', 'Owoman', 'thismy', 'body', '.', 'lainwith', 'empty', 'armsupon', 'giddy', 'hillsto', 'dream', ',', 'approve', 'thesefirm', 'unsatedeyeswhich', 'beheld', 'night', \"'s\", 'speechless', 'carnivalthe', 'paintingof', 'darkwith', 'meteors', 'streaming', 'playfulimmortal', 'handsthe', 'burstingof', 'wafted', 'stars', '(']\n",
      "['cruelly', ',', 'lovewalk', 'autumn', 'long', ';', 'last', 'flower', 'whose', 'hair', ',', 'thy', 'lips', 'cold', 'songs', 'isfirst', 'wither', ',', 'pass', '?', 'shallowness', 'sunlightfalls', ',', 'cruelly', ',', 'across', 'grassComes', 'themoon', 'love', ',', 'walk', 'theautumnlove', ',', 'lastflower', 'hair', 'withers', ';', 'thy', 'hair', 'acold']\n",
      "['Dark', 'demon', '’', 'dream', 'one', 'love—', 'soul—but', 'oh', ',', 'beautiful', 'form', '!', 'glows', 'like', 'Venus', 'throned', 'joy', ',', 'crimson', 'couch', 'Evening', 'warm', 'Reposing', 'sweet', 'limbs', ',', 'heaving', 'breast', 'Unveiled', 'lights', 'golden', 'west', '!', 'Ah', ',', ',', 'soft', 'hand', 'carest', ',']\n",
      "['Darling', ',', 'world', \"'s\", 'fresh', 'ornament', '.', \"Ne'er\", 'bigger', 'bloom', 'could', 'seeker', 'find', ',', 'dear', 'fool', ',', 'displayment', '.', 'displacement', 'gentle', 'mind', 'boudoir', 'regions', ',', 'gaudy', 'cunning', 'luxury', ',', 'old', 'self-substantial', 'petrol', 'short', 'supply', '.', 'run', 'rearing', 'gal', ',', 'new', 'polished', 'buxomry', 'Demands', 'man—the', 'night', \"'s\"]\n",
      "['DEAR', 'MISS', ':', 'Notwithstanding', 'cloud', 'doubts', 'overshadows', 'mind', 'adoring', 'fancy', ',', 'trace', 'vermillion', 'cheek', ',', 'sapphire', 'eye', 'expressive', 'softness', ',', 'symmetrical', 'form', 'grace', ',', 'constrained', 'sink', 'flood', 'admiration', 'beneath', 'heavenly', 'charms', '.', 'Though', ',', 'dear', 'Miss', ',']\n",
      "['Dear', 'pretty', 'youth', ',', 'unveil', 'eyes', ',', 'sleep', '?', 'night', ',', 'Methinks', 'could', 'sleep', 'free', '.', 'Alas', ',', 'dear', ',', \"'re\", 'cold', 'stone', ':', 'must', 'longer', 'lie', 'alone', '.', 'dear', ',', 'arm', 'hug', 'close']\n",
      "['ask', 'birds', 'say', '?', 'Sparrow', ',', 'Dove', ',', 'Linnet', 'Thrush', 'say', ',', '``', 'love', 'love', '!', \"''\", 'winter', \"'re\", 'silent—the', 'wind', 'strong', ';', 'says', ',', \"n't\", 'know', ',', 'sings', 'loud', 'song', '.', 'green', 'leaves', ',', 'blossoms', ',', 'sunny', 'warm', 'weather', ',', 'singing', ',', 'loving—all']\n",
      "['Elizabeth', 'vain', 'say', \"''\", 'Love', \"''\", '—', 'thou', 'sayest', 'sweet', 'way', ':', 'vain', 'words', 'thee', 'L.E.L.Zantippe', \"'s\", 'talents', 'enforced', 'well', ':', 'Ah', '!', 'language', 'thy', 'heart', 'arise', ',', 'Breath', 'less', 'gently', 'forth', '—', 'veil', 'thine', 'eyes.Endymion', ',', 'recollect', ',', 'Luna', 'triedTo', 'cure']\n",
      "['Epithalamion', '?', 'long', 'backI', 'ironic', '“', 'wives.', '”', '’', 'well', 'say', ',', 'creation', 'thriveson', 'contradiction', ',', '’', 'fast', 'trackshifted', 'precipitately', '.', 'Tacky', ',', 'might', 'say', ',', 'look', 'mildly', 'appalled', '.', 'Onthe', 'whole', ',', '’', 'one', '’', 'likely', 'called', 'on.Explain', 'face', 'music', ',', 'Hack.No', 'law', 'books', 'frame']\n",
      "['Four', 'lanes', ',', 'plump', 'helium', 'heart—slipped', ',', 'maybe', ',', 'kid', '’', 'wrist', 'rushed', 'lover', '’', 'empty', 'passenger', 'seatthrough', 'half-cracked', 'car', 'window—rises', 'like', 'shiny', 'purple', 'cloudlet', 'toward', 'today', '’', 'gray', 'mess', 'clouds', ',', 'trailing', 'gold', 'ribbon', 'like', 'lightningthat', 'never', 'strike', 'anything', 'anyone', 'forsaken', 'ground', ',', 'bold', 'LOVE', 'increasingly']\n",
      "['Gazing', 'upon', ',', 'severe', 'dead', ',', 'seemed', 'curious', 'thing', 'lain', 'Beside', 'many', 'night', 'cold', 'bed', ',', 'would', '.', 'desirous', 'body', 'great', 'heat', 'gone', 'last', ',', 'seemed', ',', 'taut', 'nerves', 'Loosened', 'forever', '.', 'Formally', 'sheet', 'Set']\n",
      "['Give', 'hunger', ',', 'gods', 'sit', 'give', 'world', 'orders', '.', 'Give', 'hunger', ',', 'pain', 'want', ',', 'Shut', 'shame', 'failure', 'doors', 'gold', 'fame', ',', 'Give', 'shabbiest', ',', 'weariest', 'hunger', '!', 'leave', 'little', 'love', ',', 'voice', 'speak', 'day', 'end', ',', 'hand']\n",
      "['Give', 'imagination', 'pure', 'light', 'human', 'form', 'fix', ',', 'shame', 'devils', 'hideous', 'human', 'game', ':', '—', 'Imaginationurging', 'appetite', '!', 'Thus', 'fallen', 'earth', '’', 'greatest', 'Gogmagogs', ',', 'dazzle', 'us', ',', 'revere', ':', 'Imagination', 'charioteer', ',', 'default', 'better', ',', 'drives', 'hogs', '.', ',', 'therefore', ',', 'dear', 'Lady', ',', 'let']\n",
      "['Grandma', '’', 'rosebushreminiscent', 'Vice', 'Lord', '’', 'do-rag.the', 'unfamiliar', 'bloom', 'Mrs.', 'Bradley', '’', 'yardbanging', 'Gangster', 'Disciple', 'style', 'blue.the', 'dandelions', 'park', 'putting', 'onLatin', 'King', 'gold', 'like', 'Chicano', 'catsover', 'east', 'turn', 'puffof', 'smoke', 'like', 'us', 'colored', 'boys', '.']\n",
      "['description', 'hundreds', 'years', 'never', 'comprehend', 'hundreds', 'years', ',', 'passing', '“', 'lived', 'together', ',', '”', 'write', ',', 'meanLast', 'night', 'A.', 'convinced', 'parasite', 'OK', ',', '’', 'parasite', ',', '’', 'interesting', 'blood', 'mixes', 'blood', 'flea', '’']\n",
      "['artfully', 'unkempt', 'strawberry', 'blonde', 'head', 'sports', 'outsized', 'headphones', '.', 'Like', 'contemporary', 'bust', '.', 'Behold', 'innocence', 'freckles', ',', 'ripe', 'pout', 'cherry', 'lips', '.', 'mere', 'sight', 'world', 'hurts', ',', 'squints', 'greenly', 'applies', 'saline', 'drops', '.', 'dream', 'crying', '.', 'duration']\n",
      "['love', 'thee', '?', 'Let', 'count', 'ways', '.', 'love', 'thee', 'depth', 'breadth', 'height', 'soul', 'reach', ',', 'feeling', 'sight', 'ends', 'ideal', 'grace', '.', 'love', 'thee', 'level', 'every', 'day', \"'s\", 'quiet', 'need', ',', 'sun', 'candle-light', '.', 'love', 'thee']\n",
      "['love', 'came', 'know', ',', 'Whether', 'eye', ',', 'ear', ',', ';', 'whether', 'soul', 'came', '(', 'first', ')', 'infused', ';', 'Whether', 'part', '’', 'tis', ',', ',', 'like', 'soul', ',', 'whole', 'everywhere', ',', 'troubles', ':', 'wellAs', 'tell', ':']\n",
      "['much', 'history', 'enough', 'history', 'agreeto', 'flee', 'daycares', 'wash', 'everything', 'away', 'start', 'overleaving', 'laptops', 'lost', 'wet', 'along', 'housecats', 'Christ', '’', 'sown', 'mother', 'even', 'lobster', 'climbs', 'away', 'shell', 'fewtimes', 'life', 'every', 'time', 'open']\n",
      "['love', 'like', 'water', 'loves', '’', 'impossible', 'even', 'taste', 'ghostly', 'sediments', 'time', 'take', 'sipImpossible', 'savor', 'salt', 'blood', 'light', 'island', 'shorelines', 'living', 'cellWhen', 'even', 'plainest', 'mouthful', 'tastes', 'itSweetest', 'absences', 'frees', 'wave', 'wave', 'debris']\n",
      "['poet', 'Body', 'poet', 'Soul', ',', 'pleasures', 'heaven', 'pains', 'hell', ',', 'first', 'graft', 'increase', 'upon', ',', 'latter', 'translate', 'new', 'tongue.I', 'poet', 'woman']\n",
      "['summer', 'air', 'evening', 'isPossessed', 'scent', 'linden', 'blossoms', ',', 'snowcap', 'gleams', 'lightLent', 'brimming', 'moon.Without', \"'d\", 'unleafed', 'treeBlasted', 'bleakness', 'Spring.Your', 'love', 'weather', 'being.What', 'island', 'without']\n",
      "['call', 'father', 'halftime', 'Irish', 'TV', '.', '(', 'Family', 'history', ':', 'father', 'called', 'father', 'rotary', 'phone', 'screwed', 'wall', '.', ')', '’', 'good', 'hear', 'father', '’', 'voice', ',', 'cellular', 'access', 'familiar', 'sounds', ':', 'admonishments', ',', 'praise', 'anger', '.', '(', 'Memory', 'bedtime', 'songs', '’', 'sing']\n",
      "['live', '–', 'would', 'Life', '–', 'Life', '–', 'Behind', 'ShelfThe', 'Sexton', 'keeps', 'Key', '–', 'Putting', 'Life', '–', 'Porcelain', '–', 'Like', 'Cup', '–', 'Discarded', 'Housewife', '–', 'Quaint', '–', 'Broke', '–', 'newer', 'Sevres', 'pleases', '–', 'Old', 'Ones', 'crack', '–', 'could', 'die', '–', '–', 'One', 'must', 'wait', 'shut', \"'s\", 'Gaze', '–', '–', 'could', '–', '–', 'could', 'stand']\n",
      "['cut', 'upon', 'thought', 'youAnd', 'yet', 'come', 'back', ',', 'kind', 'fury', 'makes', 'want', 'draw', 'outFrom', 'dimness', 'presentAnd', 'set', 'sharply', 'wheel', 'roses.Then', ',', 'going', 'obviously', 'inhale', 'fragrance', ',', 'touch']\n",
      "['dreamed', 'stood', 'upon', 'little', 'hill', ',', 'feet', 'lay', 'ground', ',', 'seemedLike', 'waste', 'garden', ',', 'flowering', 'willWith', 'buds', 'blossoms', '.', 'pools', 'dreamedBlack', 'unruffled', ';', 'white', 'liliesA', ',', 'crocuses', ',', 'violetsPurple']\n",
      "['dreamed', 'mannequin', 'pawnshop', 'windowof', 'conjectures.I', 'dreamed', 'chant', 'mouth', 'monk', ',', 'saffron-robed', 'syllables', 'religion', 'You.I', 'dreamed', 'lament', 'hear']\n",
      "['great', 'lover', ':', 'filled', 'days', 'proudly', 'splendour', 'Love', \"'s\", 'praise', ',', 'pain', ',', 'calm', ',', 'astonishment', ',', 'Desire', 'illimitable', ',', 'still', 'content', ',', 'dear', 'names', 'men', 'use', ',', 'cheat', 'despair', ',', 'perplexed', 'viewless', 'streams', 'bear', 'hearts', 'random', 'dark', 'life', '.', ',']\n",
      "['love', 'ever.Our', 'kids', 'kids', 'soon', 'kids.I', 'need', '.', 'need', 'everyoneto', 'come', 'house', ',', 'sleep', 'floor', ',', 'couchesin', 'front', 'room', '.', 'need', 'noise', ',', 'many', 'people', 'small', 'space', ',', 'need', 'dancing', ',', 'spilling', 'drinks', ',', 'loud', 'pronouncementsover']\n",
      "['lie', 'thinking', ':', '—the', 'stain', 'love', 'upon', 'world', '!', 'Yellow', ',', 'yellow', ',', 'yellow', 'eats', 'leaves', ',', 'smears', 'saffron', 'horned', 'branches', 'lean', 'heavily', 'smooth', 'purple', 'sky', '!', 'light', 'honey-thick', 'stain', 'drips', 'leaf', 'leaf', 'limb', 'limb', 'spoiling', 'colors', 'whole', 'world—you', 'far']\n",
      "['love', 'white', 'v-neck', 't-shirton', ':', 'two', 'cotton', 'strips', 'racingto', 'point', 'arrived', ':', 'therevigor', 'barely', 'contained', ',', 'flaming', 'hair', ',', 'collarless', ',', 'fenced-in', 'skin', 'shines.Cool', 'drop', 'hem', ',', 'soft', '&', 'lived-in', ',', 'unlike', 'father', ',', 'bed', 'go', ',', 'flushed', 'fur', 'rabbit', '’', 'burrowor', 'nest', 'flightless', 'bird', ',']\n",
      "['make', 'shiratama', 'take', 'man', 'heat', 'sugar', 'form', 'syrup', 'Put', 'boiled', 'dumplings', 'cool', 'seal', 'tight', 'take', 'shiratama', 'stick', 'bottom', 'surfaces', 'shiratama', 'torn', 'round', 'Shapes', 'distorted', 'scoop', 'spoon', 'Hey', '!', 'Look', '!', 'Scoop', \"n't\"]\n",
      "['never', 'thought', '’', 'keep', 'record', 'painor', 'happinesslike', 'candles', 'lighting', 'entire', 'soft', 'laceof', 'airaround', 'full', 'length', 'hair/a', 'showerorganized', 'Godin', 'brown', 'auburnundulations', 'luminous', 'like', 'particlesof', 'flameBut', 'doretrieve', 'afternoon', 'apricotsand', 'water', 'interspersed', 'cigarettesand', 'sand', 'rockswe', 'walked']\n",
      "['saw', 'once—her', 'eye', '’', 'deep', 'lightFell', 'spirit', '’', 'deeper', 'night', ',', 'beam', 'e', '’', 'er', 'illumedIts', 'shadows', 'drear', '.', 'glance', 'slight', ',', 'oh', ',', 'softness', 'assumed', '!', 'saw', 'twice—her', 'glance', 'againLit', 'fire', 'within', 'brain', ';', 'thoughts', 'leaped', ',', 'like', 'lightning', 'warm', ',', 'felt']\n",
      "['sing', 'love', ':', 'carves', 'live', ',', 'saps', 'hurt', ',', 'kills', 'die', ';', 'made', 'keeps', 'warm', ',', 'points', 'eyes', 'ahead', ',', 'makes', 'give', ',', 'get', ',', 'give', 'get']\n",
      "['think', 'loved', 'presently', ',', 'given', 'earnest', 'words', 'flung', 'jest', ';', 'lifted', 'honest', 'eyes', 'see', ',', 'caught', 'hand', 'cheek', 'breast', ';', 'pretty', 'follies', 'flung', 'aside', ',', 'beneath', 'gaze', ',', 'Naked', 'reticence', 'shorn']\n",
      "['took', 'train', 'Patiala', ',', 'left', 'girls', 'Ayah', ',', 'lied', ',', \"'m\", 'Faye', 'Daisy.Had', 'say', \"'d\", 'approve', '.', 'Go', ',', 'Kiran', 'said', ',', 'crushing', 'large', 'rupees', 'hand.Have', 'week', '?', \"'ve\", 'slept', 'long', 'ca', \"n't\", 'remember']\n",
      "['turn', 'radio', 'hear', 'horses', ',', 'girls', 'becoming', 'women', 'tragedy', '.', 'Talk', 'dreams', '!', 'heart', 'covered', 'thin', 'shell', 'color', 'moon', ',', 'touched', ',', '’', 'grow', 'old', '.', 'best', 'movies', 'philosophy', ',', 'Dorothy', ',', 'subjected', 'witch-on-girl', 'violence', ',', 'rescued', '.']\n",
      "['I.She', 'walks', 'beauty', ',', 'like', 'night', 'cloudless', 'climes', 'starry', 'skies', ';', \"'s\", 'best', 'dark', 'bright', 'Meet', 'aspect', 'eyes', ':', 'Thus', 'mellowed', 'tender', 'light', 'heaven', 'gaudy', 'day', 'denies.II.One', 'shade', ',']\n",
      "['ever', 'two', 'one', ',', 'surely', '.', 'ever', 'man', 'loved', 'wife', ',', 'thee', ';', 'ever', 'wife', 'happy', 'man', ',', 'Compare', 'ye', 'women', '.', 'prize', 'thy', 'love', 'whole', 'mines', 'gold', ',', 'riches', 'East', 'doth', 'hold', '.', 'love']\n",
      "['believein', 'death', 'sureof', 'thisit', 'loved', ',', 'moon', 'sunsetstars', 'flowersgold', 'crescendo', 'silver', 'muting', 'seatidesi', 'trusted', ',']\n",
      "['loved', ',', 'soon', ',', 'ah', ',', 'soon', 'lost', 'you.Had', 'kind', 'kissed', 'gone', 'faithless', 'way.The', 'kiss', 'would', 'give', 'kiss', 'lips', 'holding', ':', 'mine', 'forever', ',', 'cost', '.']\n",
      "['two', 'nickels', 'rub', 'togetherI', 'would', 'rub', 'togetherlike', 'kid', 'rubs', 'sticks', 'togetheruntil', 'friction', 'made', 'combustionand', 'burned', 'hole', 'pocketinto', 'would', 'put', 'handand', 'armand', 'eventually', 'whole', 'self––I', 'would', 'fold', 'myselfinto', 'hole', 'pocket', 'disappear']\n",
      "['inside', 'circle', 'loveand', 'circle', 'excluded', ',', 'love', \"'s\", 'citizens', 'love', ',', 'lover', \"'ve\", 'stoppedletting', ',', 'view', 'outsidemy', 'love', \"'s\", 'limit', '?', 'love', \"'s\", 'interior', 'emitupward', 'cut', 'night', '?']\n",
      "['imagine', 'tulip', ',', 'upon', 'seeing', 'garden', 'full', 'tulips', ',', 'sheds', 'petals', 'disgust', ',', 'prays', 'bee', 'bring', 'pollen', 'rose', 'bush', '.', 'imagine', 'shadows', 'longing', 'room', 'light', 'every', 'direction', '.', 'look', 'mirror', '&', 'see', 'man', 'refuse', 'love', '.']\n",
      "['churchyard', 'old', 'still', ',', 'breeze-touched', 'branches', 'thrillTo', 'fro', ',', 'Giant', 'oak', 'trees', 'blend', \"shadeO'er\", 'sunken', 'grave-mound', ',', 'made']\n",
      "['time', ',', 'girl', 'like', 'spree', '.', 'whole', 'world', 'would', 'open', 'fi', 'miif', 'shift', 'mi', 'hips', 'strain', 'fabric', 'mi', 'skirt', ',', 'so.Still', ',', 'learn', 'mi', 'lesson', 'love', 'concern', ':', 'snake', 'bite', 'yu', ',', 'yu', 'see', 'even', 'lizard', ',', 'crawling', 'belly', 'ground', ',', 'yu']\n",
      "['middle', 'garden', 'secret', 'wedding', ',', 'hides', 'always', 'oneand', 'shiny', 'things', 'one', '.', 'treeone', 'hand', 'reaches', 'grainy', 'dusk', 'toward', 'another.Two', 'right', 'hands', '.', 'ring', 'weed', 'surely', 'die', '.']\n",
      "['rain-', 'darkness', ',', 'sunset', 'sheathed', 'sit', 'think', 'youthe', 'holy', 'city', 'face', 'little', 'cheeks', 'streets', 'smilesyour', 'eyes', 'half-', 'thrush', 'half-angel', 'drowsy', 'lips', 'float', 'flowers', 'kissand', 'sweet', 'shy', 'pirouette', 'hair', 'thenyour', 'dancesong', 'soul', '.']\n",
      "['ISinking', 'gate', 'discern', 'thin', 'moon', ',', 'blackbird', 'tries', 'old', 'airs', 'pine', ',', 'moon', 'sorry', 'one', ',', 'sad', 'bird', '’', 'tune', ',', 'spot', 'unknown', 'Heartmate', 'mine.IIDid', 'Heartmate', 'haunt', 'times', ',', 'song', 'would']\n",
      "['flares', 'sunrise', ',', 'blush', 'bramble', 'Tumbling', 'bed', 'city', 'pavement—a', 'single', 'Rose', ',', 'coral', 'heat', ',', 'end', 'season', '.']\n",
      "['easy', 'enough', 'bend', 'wish', ',', 'easy', 'enough', 'alter', 'touch', ',', 'adrift', 'great', 'sea', ',', 'shall', 'call', 'back', '?', 'Cedar', 'white', 'ash', ',', 'rock-cedar', 'sand', 'plants', 'tamarisk', 'red', 'cedar', 'white', 'cedar', 'black', 'cedar', 'inmost', 'forest', ',', 'fragrance', 'upon', 'fragrance', 'sea-magic']\n",
      "[\"'s\", 'bring', 'today—This', ',', 'heart', 'beside—This', ',', 'heart', ',', 'fields—And', 'meadows', 'wide—Be', 'sure', 'count—should', 'forgetSome', 'one', 'sum', 'could', 'tell—This', ',', 'heart', ',', 'BeesWhich', 'Clover', 'dwell', '.']\n",
      "[\"'s\", 'first', 'time', \"'ve\", 'bitten', 'peach', '.', 'time', 'splits', '--', 'half', '.', '``', \"''\", 'inside', '``', ',', \"''\", 'halved', 'pit', 'unfleshed', '--', 'refreshed', '.', 'Two', 'happinesses', 'unfold', 'one', 'joy', ',', 'folioed', '.', 'hotel', 'room', 'moment', 'lies', 'ode', 'inside', ',', 'red', 'tinge', ',', 'hinge', '.']\n",
      "['’', 'last', 'hours', 'county', 'fair', ',', 'ninth', 'inning', ',', 'score', 'tied', ',', 'small-town', 'high', 'school', 'big', 'game', ',', 'everything', '’', 'going', 'happen', 'destined', 'feel', 'inevitable', '.', 'Everett', '’', 'favorite', 'cow', 'yet', 'win', 'prize', ',', 'occurs', 'next', 'field', 'likely', 'determine', 'whether', 'certain', 'boy', ',', 'years', 'later', ',']\n",
      "['Lay', 'sleeping', 'head', ',', 'love', ',', 'Human', 'faithless', 'arm', ';', 'Time', 'fevers', 'burn', 'away', 'Individual', 'beauty', 'Thoughtful', 'children', ',', 'grave', 'Proves', 'child', 'ephemeral', ':', 'arms', 'till', 'break', 'day', 'Let', 'living', 'creature', 'lie', ',', 'Mortal', ',', 'guilty', ',', 'entirely', 'beautiful.Soul', 'body', 'bounds', ':', 'lovers', 'lie', 'upon']\n",
      "['Let', 'marriage', 'true', 'mindsAdmit', 'impediments', '.', 'Love', 'loveWhich', 'alters', 'alteration', 'finds', ',', 'bends', 'remover', 'remove', ':', ',', '!', 'ever-fixed', 'mark', ',', 'looks', 'tempests', 'never']\n",
      "['Light', 'drifts', 'across', 'ceiling', 'water—whoever', 'would', 'approach', 'changed', 'comerYou', 'holding', 'front', 'coat', 'hands', ',', 'last', 'time', 'saw', 'you—I', 'felt', 'death', 'coming', 'close', '—the', 'change', 'red', 'lipsYou', 'gave', 'hand', '.', 'pulled']\n",
      "['LINES', 'WRITTEN', 'ALBUM', 'PRINT.As', 'pictured', 'page', 'look', ',', 'pretty', 'tale', 'line', 'hook', 'though', 'novel-book', 'Amuses', 'engages', ':', 'know', ',', 'boy', 'girl', ';']\n",
      "['Love', 'breach', 'walls', ',', 'broken', 'gate', ',', 'comes', 'shall', 'go', ';', 'Love', 'sells', 'proud', 'heart', '’', 'citadel', 'Fate', '.', 'known', 'shame', ',', 'love', 'unloved', '.', 'Even', ',', 'two', 'mouths', ',', 'thirsty', ',', 'find', 'slaking', ',', 'agony', '’', 'forgot', ',', 'hushed', 'cryingOf']\n",
      "['Love', 'remains', 'kind', 'present', 'tense', '.', 'describe', 'scenes', 'photographs—as', 'though', 'actions', 'still', 'happening', '.', 'father', 'throwing', 'rock', 'picture', '.', 'father', 'keeps', 'lions', 'chest', '&', 'rip', 'apart', 'gazelle', 'picture.A', 'man']\n",
      "['Love', ',', 'though', 'riddle', 'darts', ',', 'drag', 'chariot', 'till', 'die—Oh', ',', 'heavy', 'prince', '!', 'oh', ',', 'panderer', 'hearts', '!', '—', 'Yet', 'hear', 'tell', 'throats', 'lieWho', 'shout', 'mighty', ':', 'thick', 'hair', ',', 'Day', ',', 'day', ',', 'ominous', 'arrows', 'purr', ',', 'still']\n",
      "['growing', 'like', 'tree']\n",
      "['LINES', 'WRITTEN', 'VALE', 'CHAMOUNIThe', 'everlasting', 'universe', 'things', 'Flows', 'mind', ',', 'rolls', 'rapid', 'waves', ',', 'dark—now', 'glittering—now', 'reflecting', 'gloom—', 'lending', 'splendour', ',', 'secret', 'springs', 'source', 'human', 'thought', 'tribute', 'brings', 'waters', ',', '—with', 'sound', 'half', ',', 'feeble', 'brook']\n",
      "['1', 'Muddled', 'stillnessAll', 'summer', 'SunPunched', 'yellow', 'jacket', 'nest', 'Cavernous', 'paper', 'Valved', 'like', 'parched', 'heart', 'let', 'Beat', 'outside', 'body', 'dark', 'cradle', 'living', 'part2', 'glare', 'sears', 'seeing']\n",
      "['Nature', 'seems', 'work', '.', 'Slugs', 'leave', 'lair—']\n",
      "['first', 'daygod', 'madesomething', 'up.Then', 'everything', 'came', 'along', ':', 'seconds', ',', 'sex', 'andbeasts', 'breaths', 'rabies', ';', 'hunger', ',', 'healing', ',', 'lust', 'lust', '’', 'rejections', ';', 'swarming', 'things', 'swarminside', 'dirt', ';', 'girth', 'grindand', 'grit', 'shit', 'shit', '’', 'functions', ';', 'rings', 'inside', 'treetrunkand']\n",
      "['Arriving', 'throats', 'like', 'nipped', 'roses', ',', 'like', 'tiny', 'bloom', 'fastened', 'neck', ',', 'nothing', 'else', 'cuts', 'air', 'quite', 'like', 'thrum', 'make', 'small', 'dog', 'feet', 'whine', 'yelp', '.', 'wait—no', 'excitement', 'pinned', 'sky', 'needled', 'days', 'open', 'full', 'rain', 'weeks', '.', 'Nothing', 'yet']\n",
      "['green', ',', 'vert', ',', 'royal', 'demesne', 'stocked', 'deer', '.', 'Invert', 'tippedas', 'snow', 'globe', ',', 'going', 'nowhere', 'circlesbut', 'lost', ',', 'bereft', 'woodwithout', 'deer', ',', 'waiting', 'white', 'antleredbuck', ',', ',', 'slim', 'yearlingto', 'step', 'along', 'berm', ',', 'return', '.', 'Vertigoas', 'whirling', 'round', ',']\n",
      "['Behold', 'Tree', ',', 'Autumn', '’', 'dim', 'decay', ',', 'Stript', 'frequent', ',', 'chill', ',', 'eddying', 'Wind', ';', 'yet', 'yellow', ',', 'lonely', 'leaves', 'find', 'Lingering', 'trembling', 'naked', 'spray', ',', 'Twenty', ',', 'perchance', ',', 'millions', 'whirl', \"'d\", 'away', '!', 'Emblem', ',', 'alas', '!']\n",
      "['Five', 'years', 'past', ';', 'five', 'summers', ',', 'length', 'five', 'long', 'winters', '!', 'hear', 'waters', ',', 'rolling', 'mountain-springs', 'soft', 'inland', 'murmur.—Once', 'behold', 'steep', 'lofty', 'cliffs', ',', 'wild', 'secluded', 'scene', 'impress', 'Thoughts', 'deep', 'seclusion', ';', 'connect', 'landscape', 'quiet']\n",
      "['spendthrift', 'Dropping', 'lazy', 'fingers', 'Quiet', 'coloured', 'hours', ',', 'Fluttering', 'away', 'Like', 'oak', 'beech', 'leaves', 'October.I', 'lived', 'keenly', 'wastefully', ',', 'Like', 'bush', 'sun', 'insect—', 'Lived', 'sensually', 'thoughtfully', ',', 'Loving', 'flesh', 'beauty', 'world—', 'Green', 'ivy', 'ruined', 'towers', ',', 'out-pouring', 'grey', 'sea', ',']\n",
      "['wandered', 'lonely', 'Cloud', 'floats', 'high', \"o'er\", 'Vales', 'Hills', ',', 'saw', 'crowd', ',', 'host', 'golden', 'Daffodils', ';', 'Beside', 'Lake', ',', 'beneath', 'trees', ',', 'Fluttering', 'dancing', 'breeze.Continuous', 'stars', 'shine', 'twinkle', 'Milky', 'Way', ',', 'stretched', 'never-ending', 'line', 'Along', 'margin']\n",
      "['arise', 'go', ',', 'go', 'Innisfree', ',', 'small', 'cabin', 'build', ',', 'clay', 'wattles', 'made', ':', 'Nine', 'bean-rows', ',', 'hive', 'honey-bee', ';', 'live', 'alone', 'bee-loud', 'glade.And', 'shall', 'peace', ',', 'peace', 'comes', 'dropping', 'slow', ',', 'Dropping', 'veils']\n",
      "['time', 'cloudy', 'sad', ',', 'mother', 'Nature', 'laughs', 'around', ';', 'even', 'deep', 'blue', 'heavens', 'look', 'glad', ',', 'gladness', 'breathes', 'blossoming', 'ground', '?', 'notes', 'joy', 'hang-bird', 'wren', ',', 'gossip', 'swallows', 'sky', ';', 'ground-squirrel', 'gaily', 'chirps', 'den', ',']\n",
      "['like', 'nest', 'boxes', 'round', ',', 'Degrees', 'sizes', 'box', 'found', ':', ',', 'world', ',', 'may', 'many', 'others', 'Thinner', 'less', ',', 'less', 'still', 'degree', ':', 'Although', 'subject', 'sense', ',', 'world', 'may', 'bigger', 'two-pence', '.', 'Nature', 'curious', ',', 'works', 'may']\n",
      "['Love', 'stupid', '.', 'Love', 'terrible', '.', 'mountain', 'rather', 'monsoon', 'imperfect', 'thunder', 'love', '.', 'blue', 'face', 'swallowing', 'yet', 'wearing', 'best', 'heart', 'even', 'best', 'heart', 'century', 'hunger', 'angry', 'mule', 'breathing', 'hard', 'perhaps', 'even', 'hopeful', '.', 'small', 'sun', '.', 'Little', '&', 'bright', '.']\n",
      "['Lovely', 'moonlight', 'glanced', 'gleamed', 'water', ',', 'Gleamed', 'columns', 'cypress', 'cedar', 'sustaining', 'arches', ',', 'whose', 'broken', 'vaults', 'fell', 'chinks', 'ruin.Dreamlike', ',', 'indistinct', ',', 'strange', 'things', 'around', ';', \"o'er\", 'spirits']\n",
      "['heart', 'leaps', 'behold', 'rainbow', 'sky', ':', 'life', 'began', ';', 'man', ';', 'shall', 'grow', 'old', ',', 'let', 'die', '!', 'Child', 'father', 'Man', ';']\n",
      "['wild', 'West', 'Wind', ',', 'thou', 'breath', 'Autumn', \"'s\", ',', 'Thou', ',', 'whose', 'unseen', 'presence', 'leaves', 'dead', 'driven', ',', 'like', 'ghosts', 'enchanter', 'fleeing', ',', 'Yellow', ',', 'black', ',', 'pale', ',', 'hectic', 'red', ',', 'Pestilence-stricken', 'multitudes', ':', 'thou', ',', 'chariotest', 'dark', 'wintry', 'bedThe', 'wingèd', 'seeds', ',', 'lie', 'cold', 'low', ',', 'like', 'corpse']\n",
      "['Still', 'turnstiles', 'framed', 'window', 'red', 'alders', 'Willapa', 'Bay', '[']\n",
      "['Though', 'neither', 'saw', 'flowering', 'pistachio', 'treesin', 'Hanging', 'Gardens', 'Babylon', ',', 'though', 'neitheryou', 'saw', 'Tigris', 'River', 'stained', 'ink', ',', 'though', 'never', 'heard', 'pistachio', 'shell', 'dehisce', ',', 'taken', 'turns', 'holding', 'panda', 'munchedon', 'bamboo', 'leaves', ',', 'know', 'rustle', 'now.I']\n",
      "['pick', 'tulip', 'garden', ',', 'red', 'one', '.', 'put', 'desk', 'small', 'blue', 'vase', ',', '.', ',', 'Here.To', 'incline', 'toward', ',', 'flower', 'could', 'teach', 'something', 'art.Of', 'art', '.', 'forget']\n",
      "['clouds', 'veil', 'midnight', 'moon', ';', 'restlessly', 'speed', ',', 'gleam', ',', 'quiver', ',', 'Streaking', 'darkness', 'radiantly', '!', '—yet', 'soon', 'Night', 'closes', 'round', ',', 'lost', 'ever', ':', 'like', 'forgotten', 'lyres', ',', 'whose', 'dissonant', 'strings', 'Give', 'various', 'response', 'varying', 'blast', ',', 'whose', 'frail', 'frame']\n",
      "['pulled', ',', 'spider', 'web', 'took', 'another', 'form.The', 'bull', '’', 's-eye', 'relaxed', ',', 'bull', 'unseen', 'felt', ',', 'skull', 'muscle', 'paused', 'forest', 'floor.The', 'girl', 'said', 'oh', ',', 'heard', 'mothersay', '.', 'spider', 'already', 'hiddenin', 'labyrinth', 'tree', '.', 'city', 'ranon', 'coal', 'gasoline']\n",
      "['Whose', 'woods', 'think', 'know', '.', 'house', 'village', 'though']\n",
      "['make', 'maples', 'blazejust', 'stopping', 'look', ',', 'set', 'clock', 'barksof', 'geese', '.', 'Somewhere', 'grandfatherswho', 'town', 'lean', 'ironcrisp', 'blue', 'shirts', ',', 'faces', 'bathingin', 'steam', ',', 'blackbirdsclamor', 'packs', ',', 'make', 'plans', 'behind', 'corn', '.']\n"
     ]
    }
   ],
   "source": [
    "data['no stopword'] = data['Poem'].apply(stopwordremowal)"
   ]
  },
  {
   "cell_type": "code",
   "execution_count": 11,
   "id": "a9e8fc5b",
   "metadata": {
    "execution": {
     "iopub.execute_input": "2024-07-17T11:11:15.634366Z",
     "iopub.status.busy": "2024-07-17T11:11:15.633934Z",
     "iopub.status.idle": "2024-07-17T11:11:15.640495Z",
     "shell.execute_reply": "2024-07-17T11:11:15.639509Z"
    },
    "papermill": {
     "duration": 0.01877,
     "end_time": "2024-07-17T11:11:15.643170",
     "exception": false,
     "start_time": "2024-07-17T11:11:15.624400",
     "status": "completed"
    },
    "tags": []
   },
   "outputs": [],
   "source": [
    "from nltk.stem import PorterStemmer\n",
    "from nltk.stem import WordNetLemmatizer\n",
    "import nltk\n",
    "# nltk.download('wordnet')\n",
    "\n",
    "\n",
    "\n",
    "\n",
    "# Stemming\n",
    "def temm(text):\n",
    "    word_tokens = word_tokenize(text)\n",
    "    ps = PorterStemmer()\n",
    "    stemmed_text = [ps.stem(word) for word in word_tokens]\n",
    "    print(stemmed_text)  # Output: ['run', 'run', 'ran', 'easili']\n",
    "    \n",
    "# # Lemmatization\n",
    "# lemmatizer = WordNetLemmatizer()\n",
    "# lemmatized_text = [lemmatizer.lemmatize(word, pos='v') for word in word_tokens]\n",
    "# print(lemmatized_text)  # Output: ['run', 'run', 'run', 'easily']\n"
   ]
  },
  {
   "cell_type": "code",
   "execution_count": 12,
   "id": "b82ea031",
   "metadata": {
    "execution": {
     "iopub.execute_input": "2024-07-17T11:11:15.662086Z",
     "iopub.status.busy": "2024-07-17T11:11:15.661664Z",
     "iopub.status.idle": "2024-07-17T11:11:16.024267Z",
     "shell.execute_reply": "2024-07-17T11:11:16.022995Z"
    },
    "papermill": {
     "duration": 0.376455,
     "end_time": "2024-07-17T11:11:16.028168",
     "exception": false,
     "start_time": "2024-07-17T11:11:15.651713",
     "status": "completed"
    },
    "tags": []
   },
   "outputs": [
    {
     "name": "stdout",
     "output_type": "stream",
     "text": [
      "['A', 'woman', 'walk', 'by', 'the', 'bench', 'I', '’', 'm', 'sit', 'onwith', 'her', 'dog', 'that', 'look', 'part', 'lab', ',', 'part', 'buick', ',', 'stop', 'and', 'ask', 'if', 'I', 'would', 'like', 'to', 'dance.i', 'smile', ',', 'tell', 'her', 'of', 'cours', 'I', 'do', '.', 'We', 'decideon', 'a', 'waltz', 'that', 'she', 'begin', 'to', 'hum', '.']\n",
      "['becaus', 'I', 'am', 'a', 'boy', ',', 'the', 'untouch', 'of', 'beautyi', 'my', 'subject', 'alreadi', ',', 'the', 'book', 'of', 'statuesopen', 'in', 'my', 'lap', ',', 'the', 'middl', 'of', 'octob', ',', 'leavesfoil', 'the', 'wet', 'groundin', 'soft', 'copper', '.', '“', 'A', 'statuemust', 'be', 'beautifulfrom', 'all', 'side', ',', '”', 'cellini', 'wrote', 'in', '1558.when', 'I', 'close', 'the', 'book', ',', 'the', 'bodi', 'touch', '.', 'In', 'the', 'west', ',', 'they', 'are', 'tie']\n",
      "['becaus', 'today', 'we', 'did', 'not', 'leav', 'thi', 'world', ',', 'We', 'now', 'embodi', 'a', 'promin', 'within', 'it', ',', 'even', 'amidst', 'it', 'indiffer', 'to', 'our', 'action', ',', 'whether', 'they', 'be', 'noiseless', 'or', 'not.aft', 'all', ',', 'nonsens', 'is', 'it', 'own', 'type', 'of', 'silenc', ',', 'last', 'as', 'long', 'as', 'the', 'snow', 'on', 'yourtongu', '.', 'you', 'wonder', 'whi', 'each', 'eveningmust', 'be', 'fill', 'with', 'a', 'turn']\n",
      "['big', 'bend', 'ha', 'been', 'here', ',', 'been', 'here', '.', 'shouldn', '’', 't', 'it', 'have', 'a', 'say', '?', 'call', 'the', 'mountain', 'a', 'wall', 'if', 'you', 'must', ',', '(', 'the', 'river', 'ha', 'never', 'been', 'a', 'wall', ')', ',', 'leaven', 'air', 'soak', 'equal', 'into', 'all', ',', 'could', 'thi', 'be', 'the', 'homew', 'ach', 'for', '?', 'silent', 'light', 'bath', 'cliff', 'face', ',', 'dune', 'alteringin', 'dark', ',', 'stone', 'speak', 'low', 'to']\n",
      "['I', 'put', 'shell', 'there', ',', 'along', 'the', 'lip', 'of', 'the', 'road.bivalv', 'from', 'last', 'summer', '’', 's', 'dinner', '.', 'dog', 'eatsa', 'char', 'rock', '.', 'I', 'have', 'begun', 'practic', 'to', 'eat']\n",
      "['I', 'thought', 'I', 'would', 'write', 'a', 'novelabout', 'the', 'window', 'with', 'it', 'shadowset', 'in', 'the', 'two-stori', 'house.cézann', 'stand', 'at', 'the', 'sunchok', 'hedg', ',', 'alon', 'and', 'lick', 'a', 'brushamong', 'the', 'tree', '’', 's', 'trace', 'of', 'chang', 'shade.th', 'woman—i', 'name', 'herand', 'almost', 'saw', 'her—could', 'beflap', 'a', 'pillowcas', 'at', 'the', 'shuttera', 'though', 'fan', 'a', 'firethat', 'take', 'the', 'frame']\n",
      "['I', 'wa', 'afraid', 'the', 'past', 'would', 'catch', 'up', 'with', 'me', ',', 'would', 'find', 'thi', 'new', 'hous', 'too', 'like', 'the', 'scarredold', 'childhood', 'home', '.', 'but', 'it', 'hasn', '’', 't', 'yet', '.', 'A', 'treecast', 'soft', 'and', 'gentl', 'shade', 'over', 'our', 'green', 'yard.i', 'feel', 'forgiven', 'all', 'the', 'sin', 'I', 'didn', '’', 't', 'commitfor', 'long', 'minut', 'at', 'a', 'time', '.', 'what', 'were', 'they', '?', 'I']\n",
      "['let', 'us', 'enter', 'thi', 'again', '.', 'In', 'the', 'context', 'of', 'thi', 'paragraph', ',', 'we', 'are', 'hurtl', 'backward', 'through', 'space', ',', 'toward', 'a', 'smallopen', ':', 'I', 'press', 'my', 'hand', 'to', 'your', 'lip', 'and', 'you', 'bite', '.', 'you', 'bitemi', 'spine', '.', 'ben', 'hi', 'jawlin', 'wa', 'stellar', '.', 'ben', 'hi', 'curlicue.hi', 'cellphon', 'iphon', '.', 'hi', 'and', 'everyon', '’', 's', 'iphon', ',', 'in', 'my', 'hand', ',', 'on', 'my']\n",
      "['more', 'than', 'the', 'fuchsia', 'funnel', 'break', 'outof', 'the', 'crabappl', 'tree', ',', 'more', 'than', 'the', 'neighbor', '’', 'salmost', 'obscen', 'display', 'of', 'cherri', 'limb', 'shovingtheir', 'cotton', 'candy-color', 'blossom', 'to', 'the', 'slateski', 'of', 'spring', 'rain', ',', 'it', '’', 's', 'the', 'green', 'of', 'the', 'treesthat', 'realli', 'get', 'to', 'me', '.', 'when', 'all', 'the', 'shock', 'of', 'whiteand', 'taffi', ',', 'the', 'world', '’', 's', 'baubl', 'and']\n",
      "['No', 'strawberri', 'moon', 'for', 'me', ',', 'tonight', '.', 'No', 'strawberri', 'moon', '.', 'thi', 'small', 'hous', 'creak', 'when', 'I', 'walk', 'and', 'open', 'it', '.', 'I', 'have', 'to', 'weigh', 'it', ',', 'to', 'goddess', 'or', 'not', 'tonight', '.', 'goddess', 'or', 'godless', '.', 'god', 'is', 'in', 'my', 'sleep', 'children', '’', 's', 'presenc', 'tonight', '.', 'I', 'use', 'word', 'like', 'god', 'when', 'I', 'haven', '’', 't', 'seen', 'the']\n",
      "['somewher', 'someon', 'risesfar', 'earlier', 'than', 'you', 'beforeth', 'faintest', 'glimmer', 'bluesth', 'darkest', 'dark', 'wakenswithout', 'alarm', 'without', 'bodyr', 'by', 'the', 'nightingalesneighbor', 'friend', 'or', 'strangerwho', 'ha', \"n't\", 'seen', 'hi', 'sunlitchildren', 'face', 'a', 'cold', 'sinkoh', 'caffein', 'sleepwalkermarch', 'daili', 'industri', 'withnecess', 'down', 'one', 'flightthen', 'up', 'two', 'is', 'heaven', 'insomeon', 'warm', 'besid', 'you']\n",
      "['when', 'I', 'mention', 'the', 'ravag', 'of', 'now', ',', 'I', 'mean', 'to', 'say', ',', 'then.i', 'mean', 'to', 'say', 'the', 'rough-hewn', 'edg', 'of', 'time', 'and', 'space', ',', 'a', 'continuum', 'that', 'fold', 'back', 'on', 'itself', 'in', 'furtiv', 'attemptsto', 'wit', 'what', 'wa', ',', 'what', 'is', ',', 'and', 'what', 'will', 'be', '.', 'but', 'what']\n",
      "['rememb', 'how', 'we', 'took', 'those', 'separ', 'flight', 'imagin', 'the', 'worst', ':', 'our', 'plane', 'gone', 'down', ',', 'our', 'children', 'young', ',', 'alon', '?', 'I', '’', 'd', 'leav', 'an', 'hour', 'befor', 'you', ',', 'wait', 'to', 'meet', 'you', 'at', 'your', 'gate', ',', 'or', 'you', '’', 'd', 'go', 'first', ',', 'arriv', 'and', 'rent', 'a', 'car', ',', 'then', 'meet', 'me', 'at', 'the', 'exit', '.', 'In', 'between', ',', 'blue', 'empti', ',', 'our', 'live', 'suspend', 'where', 'cloud', 'stack', 'themselv']\n",
      "['sinc', 'the', 'phlox', 'are', 'die', 'and', 'the', 'daisi', 'with', 'their', 'bright', 'bodi', 'have', 'shatter', 'in', 'the', 'wind', ',', 'I', 'go', 'out', 'among', 'these', 'last', 'dancer', ',', 'cut', 'to', 'the', 'ground', 'the', 'wither', 'aster', ',', 'the', 'spent', 'stalk', 'of', 'the', 'lili', ',', 'the', 'black', 'rose', ',', 'and', 'see', 'them', 'as', 'they', 'were', 'in', 'spring', ',', 'the', 'time', 'of', 'eager', 'and', 'blossom', ',', 'know', 'how', 'they', 'will']\n",
      "['time', 'to', 'call', 'out', 'the', 'skirl', 'ghost', ',', 'to', 'count', 'like', 'bead', 'on', 'an', 'abacu', ',', 'your', 'disappointments.thi', 'day', 'began', 'with', 'my', 'order', 'Do', 'not', 'resuscit', 'accept', 'crispli', 'over', 'the', 'phone.now', 'I', 'also', 'move', 'toward', 'elegi', ',', 'ask', 'your', 'forgiv']\n",
      "['behind', 'disinfect', 'curtain', ',', 'beyond', 'touch', 'of', 'sunris', 'devour', 'the', 'terribl', 'gold', 'of', 'leav', ',', 'a', 'man', 'could', 'be', 'hi', 'own', 'etern', 'night', '.', 'citi']\n",
      "['I', 'love', 'it', ',', 'I', 'love', 'it', ';', 'and', 'who', 'shall', 'dareto', 'chide', 'me', 'for', 'love', 'that', 'old', 'arm-chair', '?', 'I', '’', 've', 'treasur', 'it', 'long', 'as', 'a', 'saint', 'prize', ',', 'I', '’', 've', 'bedew', '’', 'd', 'it', 'with', 'tear', ',', 'and', 'embalm', 'it', 'with', 'sigh', ';', '’', 'ti', 'bound', 'by', 'a', 'thousand', 'band', 'to', 'my', 'heart', ';', 'not', 'a', 'tie', 'will', 'break', ',', 'not', 'a', 'link', 'will', 'start.would']\n",
      "['If', 'onli', 'each', 'line', 'of', 'a', 'poem', 'could', 'be', 'it', 'true', 'begin', '.', 'If', 'onli', 'each', 'moment', 'could', 'know', 'everi', 'other', 'moment', 'and', 'we', 'could', 'hold', 'them', 'all', 'at', 'onc', 'the', 'way', 'we', 'wish', 'to', ',', 'the', 'way', 'we', 'keep', 'imagin', 'we', 'can', '.', 'I', 'don', '’', 't', 'care', 'what', 'anyon', 'say', 'about', 'the', 'imposs', ',', 'for', 'I', 'step', 'into', 'the']\n",
      "['listen', ',', 'children', ':', 'your', 'father', 'is', 'dead', '.', 'from', 'hi', 'old', 'coat', 'I', \"'ll\", 'make', 'you', 'littl', 'jacket', ';', 'I', \"'ll\", 'make', 'you', 'littl', 'trouser', 'from', 'hi', 'old', 'pant', '.', 'there', \"'ll\", 'be', 'in', 'hi', 'pocket', 'thing', 'he', 'use', 'to', 'put', 'there', ',', 'key', 'and', 'penni', 'cover', 'with', 'tobacco', ';', 'dan', 'shall', 'have', 'the', 'penni', 'To', 'save', 'in', 'hi', 'bank', ';', 'ann', 'shall', 'have', 'the', 'key', 'To', 'make', 'a', 'pretti', 'nois', 'with', '.', 'life', 'must']\n",
      "['My', 'word', 'are', 'dust', '.', 'I', 'who', 'would', 'build', 'a', 'star', ',', 'I', 'who', 'would', 'touch', 'the', 'heel', 'of', 'the', 'white', 'sun', ';', 'stagger', 'up', 'the', 'inaccess', 'sky', ',', 'I', 'look', 'upon', 'the', 'dust.th', 'stainless', 'cloud', 'go', 'mount', 'In', 'shine', 'spire', ';', 'and', 'a', 'littl', 'heap', 'of', 'dust', 'are', 'my', 'desires.yet', ',', 'dwell', 'long', 'upon', 'these', 'peak', 'unchain', 'upon', 'the', 'flicker', 'western', 'sky', ',', 'I', 'have']\n",
      "['shiitak', ',', 'velvet', 'foot', ',', 'hen', 'of', 'the', 'wood', ',', 'woodear', ',', 'cloud', 'ear', ',', 'slipperi', 'jack', ',', 'brown', 'wreathsof', 'polish', 'borowik', 'dri', 'and', 'hangingin', 'the', 'stall', 'of', 'a', 'krakow', 'market—al', 'thesewer', 'year', 'away', 'from', 'the', 'room', 'where', 'I', 'layonc', ',', 'studi', 'the', 'contour', 'of', 'your', 'sexa', 'if', 'it', 'were', 'some', 'subterranean', 'speciesi', '’', 'd']\n",
      "['somewher', 'in', 'nicaragua', 'or', 'guatemala', ',', 'it', 'doesn', '’', 't', 'matter', ',', 'hi', 'wing', 'ach', 'from', 'so', 'much', 'wax', ',', 'so', 'much', 'discordin', 'hi', 'father', '’', 's', 'voic', ',', 'how', 'onceh', 'fled', 'the', 'ward', 'of', 'the', 'state', 'through', 'air', '&', 'sky', ';', 'so', 'simpl', 'and', 'so', 'exact', 'he', 'fell', 'from', 'the', 'cloud', ',', 'yet', 'no', 'one', 'care', ';', 'not', 'the', 'hospit', ',', 'not', 'the', 'impoverish', 'nor']\n",
      "['the', 'deer', 'is', 'still', 'aliv', 'in', 'the', 'roadsid', 'grass', '.', 'In', 'an', 'hour', ',', 'we', \"'ll\", 'cut', 'her', 'open', ',', 'her', 'left', 'hip', 'broken', ',', 'the', 'bonein', 'her', 'dark', 'bodi', ';', 'now', 'the', 'white', 'camaroshock', 'in', 'the', 'night', 'and', 'the', 'boywet-fac', 'in', 'the', 'back', 'seat', ',', 'hi', 'parent', 'at', 'a', 'lossbi', 'the', 'hood', ',', 'too', 'youngto']\n",
      "['the', 'widow', 'in', 'silk', 'pajama', 'slide', 'hi', 'hand', 'along', 'a', 'glossi', 'blue', 'sleev', ',', 'think', ',', 'water', 'to', 'fabric', ',', 'rivulet', 'slip', 'through', 'a', 'needl', '’', 's', 'eye.h', '’', 's', 'all', 'rippl', 'when', 'he', 'move', ',', 'all', 'wave', 'break', 'against', 'flesh.h', 'read', 'in', 'the', 'paper', 'the', 'human', 'bodi', 'is', '80', 'percent', 'water', '.', 'He', 'is', 'almosta', 'brook', 'when', 'he', 'wander', 'around', 'the', 'yard', ',', 'practic', 'a']\n",
      "['the', 'word', 'we', 'use', 'to', 'instil', 'a', 'sens', 'of', 'the', 'ineff', 'carri', 'us', 'on', 'a', 'journey', 'that', '’', 's', 'mysteri', 'As', 'if', 'your', 'car', 'make', 'a', 'sudden', 'left', 'turn', 'and', 'acceler', 'A', 'child', 'in', 'the', 'road', 'leap', 'into', 'her', 'mother', '’', 's', 'embrac', 'A', 'deer', 'becom', 'a', 'child', 'and', 'you', 'hit', 'the', 'brake', 'the', 'panjandrum', 'in', 'the', 'driver', '’', 's', 'seat']\n",
      "[\"''\", 'tell', 'me', 'whom', 'you', 'love', ',', 'and', 'I', '’', 'll', 'tell', 'you', 'who', 'you', 'are', '.', \"''\", '–', 'creol', 'proverbth', 'man', 'whose', 'throat', 'blossom', 'with', 'spici', 'chocolatestemp', 'my', 'way', 'of', 'flurryingi', 'my', 'inner', 'recess', 'surfacingpaint', 'the', 'bedroom', 'blue', 'becaus', 'he', 'want', 'to', 'carri', 'me', 'to', 'the', 'skiespear', 'eater', 'in', 'the', 'orchardpossess', 'whitmanesqu', 'urg', '&', 'urgencyboo']\n",
      "['for', 'the', 'geeche', 'gullah', 'ring', 'shouterson', 'of', 'the', 'women', 'greet', 'me.i', 'love', 'you', ',', 'she', 'said', '.', 'she', 'didn', '’', 'tknow', 'me', ',', 'but', 'I', 'believ', 'her', ',', 'and', 'a', 'terribl', 'new', 'acherol', 'over', 'in', 'my', 'chest', ',', 'like', 'in', 'a', 'room', 'where', 'the', 'drapeshav', 'been', 'swept', 'back', '.', 'I', 'love', 'you', ',', 'I', 'love', 'you', ',', 'as']\n",
      "['for', 'her', 'thi', 'rhyme', 'is', 'pen', ',', 'whose', 'lumin', 'eye', ',', 'brightli', 'express', 'as', 'the', 'twin', 'of', 'loeda', ',', 'shall', 'find', 'her', 'own', 'sweet', 'name', ',', 'that', ',', 'nestl', 'lie']\n",
      "['I', 'saw', 'thee', 'on', 'thi', 'bridal', 'day—when', 'a', 'burn', 'blush', 'came', 'o', '’', 'er', 'thee', ',', 'though', 'happi', 'around', 'thee', 'lay', ',', 'the', 'world', 'all', 'love', 'befor', 'thee', ':']\n",
      "['thou', 'wast', 'all', 'that', 'to', 'me', ',', 'love', ',', 'for', 'which', 'my', 'soul', 'did', 'pine—a', 'green', 'isl', 'in', 'the', 'sea', ',', 'love', ',', 'A', 'fountain', 'and', 'a', 'shrine', ',']\n",
      "['’', 'ti', 'christma', 'weather', ',', 'and', 'a', 'countri', 'hous', 'receiv', 'us', ':', 'room', 'are', 'full', ':', 'we', 'can', 'but', 'get', 'An', 'attic-crib', '.', 'such', 'lover', 'will', 'not', 'fret', 'At', 'that', ',', 'it', 'is', 'half-said', '.', 'the', 'great', 'carous', 'knock', 'hard', 'upon', 'the', 'midnight', '’', 's', 'hollow', 'door', ',', 'but', 'when', 'I', 'knock', 'at', 'her', ',', 'see', 'the', 'pit', '.', 'whi', 'did', 'I', 'come', 'here', 'in', 'that', 'dullard', 'fit', '?', 'I']\n",
      "['``', 'give', 'me', 'a', 'place', 'to', 'stand', ',', \"''\", 'archimed', 'said', ',', \"''\", 'and', 'I', 'can', 'move', 'the', 'world', '.', \"''\", 'paradox', ',', 'clever', ',', 'hi', 'remark', 'which', 'first', 'explain', 'the', 'use', 'of', 'the', 'leverwa', 'an', 'academ', 'joke', '.', 'but', 'if', 'that', 'deadsag', 'could', 'return', 'to', 'life', ',', 'he', 'would', 'find', 'a', 'cleardemonstr', 'of', 'hi', 'idea', ',', 'which', 'is', 'not']\n",
      "['(', 'thee', 'will', 'i', 'prais', 'between', 'those', 'river', 'whose', 'white', 'voic', 'pass', 'upon', 'forget', '(', 'fail', 'me', 'not', ')', 'whose', 'courseless', 'water', 'are', 'a', 'gloat', 'of', 'silver', ';', \"o'er\", 'whose', 'night', 'three', 'willow', 'wail', ',', 'a', 'slender', 'dim', 'in', 'the', 'unshap', 'hour', 'make', 'dear', 'moan', 'in', 'tone', 'of', 'stroke', 'flower', ';', 'let', 'not', 'thi', 'lust', 'one', 'thread', 'moment', 'lose', ':', 'hast', ')', 'the', 'veri', 'shadowi', 'sheep', 'float', 'free', 'upon', 'terrif']\n",
      "['1.in', 'the', 'first', 'place—i', 'want', 'him', 'and', 'said', 'so', 'when', 'I', 'had', 'onli', 'meant', 'to', 'say', '.', 'hi', 'eye', 'open', 'beyond', 'open', 'as', 'if', 'such', 'forc', 'would', 'unlock', 'me', 'to', 'the', 'other', 'side', 'where', 'daylight', 'gave', 'reasonfor', 'him', 'to', 'redress', '.']\n",
      "['1.our', 'room', ',', 'say', 'the', 'ladi', 'of', 'the', 'hous', 'is', 'nicer', 'than', 'one', 'in', 'a', 'motel', 'and', 'she', \"'s\", 'right', 'second-storey', 'bay', 'window', 'a', 'mushi', 'doubl']\n",
      "['A', 'good', 'way', 'to', 'fall', 'in', 'love', 'is', 'to', 'turn', 'off', 'the', 'headlight', 'and', 'drive', 'veri', 'fast', 'down', 'dark', 'roads.anoth', 'way', 'to', 'fall', 'in', 'love', 'is', 'to', 'say', 'they', 'are', 'onli', 'mint', 'and', 'swallow', 'them', 'with', 'a', 'strong', 'drink.then', 'it', 'is', 'autumn', 'in', 'the', 'bodi', '.', 'your', 'hand', 'are', 'cold', '.', 'then', 'it', 'is', 'winter', 'and', 'we', 'are']\n",
      "['A', 'song', 'to', 'wake', 'your', 'dear', 'in', 'the', 'morningi', 'kiss', 'the', 'lock', 'of', 'your', 'hair', ':', 'Do', 'you', 'feel', 'me', 'there', ',', 'sleepi', 'one', '?', 'I', 'will', 'put', 'a', 'kiss', 'on', 'your', 'brow', ':', 'are', 'you', 'wake', 'now', '?', 'Wo', \"n't\", 'you', 'wake', ',', 'sleepi', 'one', '?', 'A', 'kiss', 'on', 'your', 'left', 'eye', ';', 'on', 'your', 'right—', 'close', 'tight', ',', 'close', 'tight', '!', 'Oh', ',', 'you', 'are', 'a', 'hard', 'one']\n",
      "['A', 'trio', 'of', 'instrument', 'you', 'love', 'the', 'notesindissect', '&', 'extend', 'small', 'rocket', 'of', 'delightforc', 'to', 'love', ',', 'be', 'love', ',', 'love', 'acceleratinglov', 'momentum', ',', 'the', 'love', 'to', 'travelw', 'will', 'never', 'agre', 'the', 'world', 'containsso', 'much', 'phenomena', 'we', '’', 'll', 'put', 'on', 'glassesabstract', 'it', 'give', 'it', 'structur', 'make', 'a', 'frameinvers', 'proport', 'to', 'the', 'squar', 'oftwo', 'distanc']\n",
      "['A', 'woman', 'wa', 'play', ',', 'A', 'man', 'look', 'on', ';', 'and', 'the', 'mould', 'of', 'her', 'face', ',', 'and', 'her', 'neck', ',', 'and', 'her', 'hair', ',', 'which', 'the', 'ray', 'fell', 'upon', 'Of', 'the', 'two', 'candl', 'there', ',', 'sent', 'him', 'mental', 'stray', 'In', 'some', 'fancy-plac', 'where', 'pain', 'had', 'no', 'trace.a', 'cowl', 'apparit', 'came', 'push', 'between', ';', 'and', 'her', 'note', 'seem', 'to', 'sigh', ';', 'and', 'the', 'light', 'to', 'burn', 'pale', ',', 'As', 'a', 'spell']\n",
      "['after', 'five', 'time', 'the', 'poem', 'of', 'thi', 'remembr', 'surpris', 'with', 'refrainof', 'unreason', 'summer', 'that', 'by', 'respond', 'way', 'cloak', 'with', 'renew', 'my', 'bodi', 'turn', 'towardthe', 'againfor', 'the', 'star', 'have', 'been', 'finish', 'in', 'the', 'nobler', 'tree', 'and', 'the', 'languag', 'of', 'leav', 'repeatseventu', 'perfect', 'while', 'east', 'deserv', 'of', 'dawn', ',', 'i', 'lie', 'at', 'length', ',', 'breath', 'with', 'shut', 'eyesth', 'sweet', 'earth', 'where']\n",
      "['all', 'thought', ',', 'all', 'passion', ',', 'all', 'delight', ',', 'whatev', 'stir', 'thi', 'mortal', 'frame', ',', 'all', 'are', 'but', 'minist', 'of', 'love', ',', 'and', 'feed', 'hi', 'sacr', 'flame.oft', 'in', 'my', 'wake', 'dream', 'do', 'I', 'live', \"o'er\", 'again', 'that', 'happi', 'hour', ',', 'when', 'midway', 'on', 'the', 'mount', 'I', 'lay', ',', 'besid', 'the', 'ruin', \"'d\", 'tower.th', 'moonshin', ',', 'steal', \"o'er\", 'the', 'scene', ',', 'had', 'blend', 'with', 'the', 'light', 'of', 'eve', ';', 'and']\n",
      "['all', 'yesterday', 'it', 'pour', ',', 'and', 'all', 'night', 'long', 'I', 'could', 'not', 'sleep', ';', 'the', 'rain', 'unceas', 'beatupon', 'the', 'shingl', 'roof', 'like', 'a', 'weird', 'song', ',', 'upon', 'the', 'grass', 'like', 'run', 'children', '’', 's', 'feet.and', 'down', 'the', 'mountain', 'by', 'the', 'dark', 'cloud', 'kiss', ',', 'like', 'a', 'strang', 'shape', 'in', 'filmi', 'veil', 'dress', ',', 'slid', 'slowli', ',']\n",
      "['alway', 'befor', 'your', 'voic', 'my', 'soulhalf-beauti', 'and', 'wholli', 'drolli', 'as', 'some', 'smooth', 'and', 'awkward', 'foal', ',', 'whereof', 'young', 'moon', 'beginth', 'new', 'of', 'hi', 'skin', ',', 'so', 'of', 'my', 'stupid', 'sincer', 'youthth', 'exquisit', 'failur', 'uncouthdiscov', 'a', 'trembl', 'and', 'smoothunstrength', ',', 'against', 'the', 'strongsil', 'of', 'your', 'song', ';', 'or', 'as']\n",
      "['among', 'the', 'men', 'and', 'women', 'the', 'multitud', ',', 'I', 'perceiv', 'one', 'pick', 'me', 'out', 'by', 'secret', 'and', 'divin', 'sign', ',', 'acknowledg', 'none', 'els', ',', 'not', 'parent', ',', 'wife', ',', 'husband', ',', 'brother', ',', 'child', ',', 'ani', 'nearer', 'than', 'I', 'am', ',', 'some', 'are', 'baffl', ',', 'but', 'that', 'one', 'is', 'not—that', 'one', 'know', 'me', '.']\n",
      "['and', 'what', 'is', 'love', '?', 'It', 'is', 'a', 'doll', 'dress', '’', 'd', 'upfor', 'idl', 'to', 'cosset', ',', 'nurs', ',', 'and', 'dandl', ';', 'A', 'thing', 'of', 'soft', 'misnom', ',', 'so', 'divinethat', 'silli', 'youth', 'doth', 'think', 'to', 'make', 'itselfdivin', 'by', 'love', ',', 'and', 'so', 'goe', 'onyawn', 'and', 'dote', 'a', 'whole', 'summer', 'long', ',', 'till', 'miss', '’', 's', 'comb', 'is', 'made', 'a', 'pearl', 'tiara', ',', 'and', 'common', 'wellington']\n",
      "['and', 'you', 'rememb', ',', 'in', 'the', 'afternoonth', 'sea', 'and', 'the', 'sky', 'went', 'grey', ',', 'as', 'if', 'there', 'had', 'sunka', 'floccul', 'dust', 'on', 'the', 'floor', 'of', 'the', 'world', ':', 'the', 'festoonof', 'the', 'sky', 'sag', 'dusti', 'as', 'spider', 'cloth', ',', 'and', 'cold', 'clog', 'the', 'sea', ',', 'till', 'it', 'ceas', 'to', 'croon', '.']\n",
      "['As', 'I', 'walk', 'out', 'one', 'even', ',', 'walk', 'down', 'bristol', 'street', ',', 'the', 'crowd', 'upon', 'the', 'pavementwer', 'field', 'of', 'harvest', 'wheat.and', 'down', 'by', 'the', 'brim', 'riveri', 'heard', 'a', 'lover', 'sing', 'under', 'an', 'arch', 'of', 'the', 'railway', ':', \"'love\", 'ha', 'no', 'end', '.', \"'I\", \"'ll\", 'love', 'you', ',', 'dear', ',', 'I', \"'ll\"]\n",
      "['as', 'is', 'the', 'sea', 'marvel', 'from', 'god', \"'s\", 'hand', 'which', 'sent', 'her', 'forth', 'to', 'sleep', 'upon', 'the', 'worldand', 'the', 'earth', 'wither', 'the', 'moon', 'crumbl', 'one', 'by', 'one', 'star', 'flutter', 'into', 'dustbut', 'the', 'sea', 'doe', 'not', 'chang', 'and', 'she', 'goe', 'forth', 'out', 'of', 'hand', 'and', 'she', 'return', 'into', 'handsand', 'is', 'with', 'sleep', '...', '.love', ',', 'the']\n",
      "['back', 'when', 'my', 'head', 'like', 'an', 'egg', 'in', 'a', 'nest', 'wa', 'vowel-keen', 'and', 'dawdl', ',', 'I', 'shed', 'my', 'slick', 'beautifuland', 'put', 'it', 'in', 'a', 'basket', 'and', 'laid', 'it', 'barefac', 'at', 'the', 'riveramong', 'the', 'tax', 'rock', '.', 'My', 'beauti', 'wa', 'all', 'hushand', 'glitter', '.', 'It', 'wa', 'too', 'moist', 'to', 'grasp', '.']\n",
      "['Be', 'in', 'me', 'as', 'the', 'etern', 'mood', 'of', 'the', 'bleak', 'wind', ',', 'and', 'nota', 'transient', 'thing', 'are', '–', 'gaieti', 'of', 'flowers.hav', 'me', 'in', 'the', 'strong', 'loneli', 'of', 'sunless', 'cliffsand', 'of', 'grey', 'water', '.', 'let', 'the', 'god', 'speak', 'softli', 'of', 'usin', 'day', 'hereaft', ',', 'the', 'shadowi', 'flower', 'of', 'orcusrememb', 'thee', '.']\n",
      "['becaus', 'I', 'love', 'you', ',', 'and', 'beneath', 'the', 'uncount', 'starsi', 'have', 'becom', 'the', 'delic', 'piston', 'thread', 'itself', 'through', 'your', 'chest', ',', 'I', 'want', 'to', 'tell', 'you', 'a', 'stori', 'I', 'shouldn', '’', 't', 'but', 'will', ',', 'and', 'in', 'the', 'meantim', 'neglect', ',', 'love', ',', 'the', 'discord', 'melodi', 'spill', 'from', 'my', 'ear', 'but', 'attend', ',', 'instead', ',', 'to', 'thi', 'tale', ',', 'for', 'a', 'river', 'burn']\n",
      "['befor', 'thi', 'day', 'I', 'love', 'like', 'an', 'anim', 'love', 'a', 'human', ',', 'with', 'no', 'way', 'to', 'articul', 'how', 'my', 'bone', 'felt', 'in', 'bed', 'or', 'how', 'a', 'telephon', 'felt', 'so', 'strang', 'in', 'my', 'paw', '.', 'O', 'papa—', 'I', 'call', 'out', 'to', 'no', 'one—', 'but', 'no', 'one', 'understood', '.', 'I', 'didn', '’', 't', 'even', '.', 'I', 'want', 'to', 'be', 'caught', '.', 'like', 'let', 'me']\n",
      "['beneath', 'the', 'gold', 'acacia', 'bud', 'My', 'gentl', 'nora', 'sit', 'and', 'brood', ',', 'far', ',', 'far', 'away', 'in', 'boston', 'wood', 'My', 'gentl', 'nora', '!', 'I', 'see', 'the', 'tear-drop', 'in', 'her', \"e'e\", ',']\n",
      "['beyond', 'the', 'cheat', 'of', 'time', ',', 'here', 'where', 'you', 'die', ',', 'you', 'live', ';', 'you', 'pace', 'the', 'garden', 'walk', ',', 'secur', 'and', 'sensit', ';', 'you', 'linger', 'on', 'the', 'stair', ':', 'love', '’', 's', 'lone', 'puls', 'leap', '!', 'the', 'harpsichord', 'is', 'shaken', ',', 'the', 'dog', 'look', 'up', 'from', 'sleep', '.', 'here', ',', 'after', 'all', 'the', 'year', ',', 'you', 'keep', 'the', 'heirdom', 'still', ';', 'the', 'youth', 'and', 'joy', 'in', 'you']\n",
      "['brother', 'and', 'sister', ',', 'we', 'know', 'whi', 'we', '’', 're', 'here', 'thi', 'even', '.', 'the', 'sad', 'news', 'ha', 'travel', 'fast', 'of', 'brother', 'jame', '’', 's', 'captur', '.', 'for', 'three', 'year', 'he', 'live', 'amongst', 'us', ',', 'tast', 'happiness.hi', 'wife', 'and', 'child', 'are', 'here', 'with', 'us', 'tonight', '.', 'god', 'bless', 'you', ',', 'sister', '.', 'without', 'a', 'goodby', ',', 'jame', 'wa', 'handcuf', ',', 'and', 'shove', 'on', 'a', 'steamboat', 'to', 'baltimor', ',', 'to', 'be']\n",
      "['busi', ',', 'thou', 'plagu', 'and', 'pleasur', 'of', 'my', 'life', ',', 'thou', 'charm', 'mistress', ',', 'thou', 'vexati', 'wife', ';', 'thou', 'enemi', ',', 'thou', 'friend', ',', 'to', 'joy', ',', 'to', 'grief', ',', 'thou', \"bring'st\", 'me', 'all', ',', 'and', \"bring'st\", 'me', 'no', 'relief', ',', 'thou', 'bitter', ',', 'sweet', ',', 'thou', 'pleas', ',', 'teaz', 'thing', ',', 'thou', 'bee', ',', 'that', 'with', 'thi', 'honey', 'wear', 'a', 'sting', ';', 'some', 'respit', ',', 'prithe', 'do', ',', 'yet', 'do', 'not', 'give', ',', 'I', 'can', 'not']\n",
      "['calich', '.', 'great', 'bird', ',', 'woodsmok', ',', 'needl', '.', 'snake', ',', 'owl', '.', 'nopal', 'vibration.almost', 'everi', 'day']\n",
      "[\"can'st\", 'thou', 'conjur', 'a', 'vanish', 'morn', 'of', 'spring', ',', 'Or', 'bid', 'the', 'ash', 'of', 'the', 'sunset', 'glow', 'again', 'to', 'red', '?', 'are', 'we', 'strong', 'to', 'wringfrom', 'trodden', 'grape', 'the', 'juic', 'drunk', 'long', 'ago', '?', 'can', 'leafi', 'long', 'stir', 'in', 'autumn', \"'s\", 'blood', ',', 'Or']\n",
      "['come', 'down', ',', 'O', 'maid', ',', 'from', 'yonder', 'mountain', 'height', ':', 'what', 'pleasur', 'live', 'in', 'height', '(', 'the', 'shepherd', 'sang', ')', ',', 'In', 'height', 'and', 'cold', ',', 'the', 'splendour', 'of', 'the', 'hill', '?', 'but', 'ceas', 'to', 'move', 'so', 'near', 'the', 'heaven', ',', 'and', 'ceaseto', 'glide', 'a', 'sunbeam', 'by', 'the', 'blast', 'pine', ',', 'To', 'sit', 'a', 'star', 'upon', 'the', 'sparkl', 'spire', ';', 'and', 'come', ',', 'for', 'love', 'is']\n",
      "['come', 'to', 'me', 'in', 'the', 'silenc', 'of', 'the', 'night', ';', 'come', 'in', 'the', 'speak', 'silenc', 'of', 'a', 'dream', ';', 'come', 'with', 'soft', 'round', 'cheek', 'and', 'eye', 'as', 'bright', 'As', 'sunlight', 'on', 'a', 'stream', ';', 'come', 'back', 'in', 'tear', ',', 'O', 'memori', ',', 'hope', ',', 'love', 'of']\n",
      "['come', 'to', 'the', 'river', '’', 's', 'side', ',', 'my', 'love', ',', 'My', 'light', 'cano', 'is', 'by', 'the', 'shore', ',', '—we', '’', 'll', 'float', 'upon', 'the', 'tide', 'my', 'love', ',', 'and', 'thou', 'shalt', 'hold', 'the', 'drip', 'oar.methink', 'thi', 'hand', 'could', 'guid', 'so', 'well', 'the', 'tini', 'vessel', 'on', 'it', 'cours', ';', 'the', 'wave', 'would', 'smooth', 'their', 'crest', 'to', 'thee', 'As', 'I', 'have', 'done']\n",
      "['come', 'when', 'the', 'night', 'are', 'bright', 'with', 'starsor', 'when', 'the', 'moon', 'is', 'mellow', ';', 'come', 'when', 'the', 'sun', 'hi', 'golden', 'barsdrop', 'on', 'the', 'hay-field', 'yellow', '.', 'come', 'in', 'the', 'twilight', 'soft', 'and', 'gray', ',', 'come', 'in', 'the', 'night', 'or', 'come', 'in', 'the', 'day', ',', 'come', ',', 'O', 'love', ',', \"whene'\", 'you', 'may', ',']\n",
      "['come', 'at', 'an', 'end', ',', 'the', 'lover', 'are', 'exhaust', 'like', 'two', 'swimmers.wher', 'did', 'it', 'end', '?', 'there', 'is', 'no', 'telling.no', 'love', 'is', 'like', 'an', 'ocean', 'with', 'the', 'dizzi', 'process', 'of', 'the', 'wave', \"'\", 'boundari', 'from', 'which', 'two', 'can', 'emerg', 'exhaust', ',', 'nor', 'long', 'goodby', 'like', 'death', '.', 'come', 'at', 'an', 'end.rath', ',', 'I', 'would', 'say', ',']\n",
      "['consid', 'owoman', 'thismi', 'bodi', '.', 'for', 'it', 'ha', 'lainwith', 'empti', 'armsupon', 'the', 'giddi', 'hillsto', 'dream', 'of', 'you', ',', 'approv', 'thesefirm', 'unsatedeyeswhich', 'have', 'beheld', 'night', \"'s\", 'speechless', 'carnivalth', 'paintingof', 'the', 'darkwith', 'meteor', 'stream', 'from', 'playfulimmort', 'handsth', 'burstingof', 'the', 'waft', 'star', '(', 'in']\n",
      "['cruelli', ',', 'lovewalk', 'the', 'autumn', 'long', ';', 'the', 'last', 'flower', 'in', 'whose', 'hair', ',', 'thi', 'lip', 'are', 'cold', 'with', 'song', 'for', 'which', 'isfirst', 'to', 'wither', ',', 'to', 'pass', '?', 'shallow', 'of', 'sunlightfal', 'and', ',', 'cruelli', ',', 'across', 'the', 'grasscom', 'themoon', 'love', ',', 'walk', 'theautumnlov', ',', 'for', 'the', 'lastflow', 'in', 'the', 'hair', 'wither', ';', 'thi', 'hair', 'is', 'acold']\n",
      "['dark', 'as', 'a', 'demon', '’', 's', 'dream', 'is', 'one', 'I', 'love—', 'In', 'soul—but', 'oh', ',', 'how', 'beauti', 'in', 'form', '!', 'she', 'glow', 'like', 'venu', 'throne', 'in', 'joy', 'abov', ',', 'Or', 'on', 'the', 'crimson', 'couch', 'of', 'even', 'warm', 'repos', 'her', 'sweet', 'limb', ',', 'her', 'heav', 'breast', 'unveil', 'to', 'him', 'who', 'light', 'the', 'golden', 'west', '!', 'Ah', ',', 'me', ',', 'to', 'be', 'by', 'that', 'soft', 'hand', 'carest', ',', 'To']\n",
      "['darl', ',', 'you', 'are', 'the', 'world', \"'s\", 'fresh', 'ornament', '.', \"ne'er\", 'a', 'bigger', 'bloom', 'could', 'a', 'seeker', 'find', 'than', 'thi', 'that', 'you', ',', 'dear', 'fool', ',', 'have', 'on', 'display', '.', 'the', 'displac', 'of', 'my', 'gentl', 'mind', 'To', 'boudoir', 'region', ',', 'gaudi', 'cun', 'luxuri', ',', 'ha', 'my', 'old', 'self-substanti', 'petrol', 'in', 'short', 'suppli', '.', 'To', 'run', 'thi', 'rear', 'gal', ',', 'the', 'new', 'polish', 'buxomri', 'demand', 'a', 'man—th', 'night', \"'s\"]\n",
      "['dear', 'miss', ':', 'notwithstand', 'the', 'cloud', 'of', 'doubt', 'which', 'overshadow', 'the', 'mind', 'of', 'ador', 'fanci', ',', 'when', 'I', 'trace', 'that', 'vermillion', 'cheek', ',', 'that', 'sapphir', 'eye', 'of', 'express', 'soft', ',', 'and', 'that', 'symmetr', 'form', 'of', 'grace', ',', 'I', 'am', 'constrain', 'to', 'sink', 'into', 'a', 'flood', 'of', 'admir', 'beneath', 'those', 'heavenli', 'charm', '.', 'though', ',', 'dear', 'miss', ',', 'it']\n",
      "['dear', 'pretti', 'youth', ',', 'unveil', 'your', 'eye', ',', 'how', 'can', 'you', 'sleep', 'when', 'I', 'am', 'by', '?', 'were', 'I', 'with', 'you', 'all', 'night', 'to', 'be', ',', 'methink', 'I', 'could', 'from', 'sleep', 'be', 'free', '.', 'ala', ',', 'my', 'dear', ',', 'you', \"'re\", 'cold', 'as', 'stone', ':', 'you', 'must', 'no', 'longer', 'lie', 'alon', '.', 'but', 'be', 'with', 'me', 'my', 'dear', ',', 'and', 'I', 'in', 'each', 'arm', 'will', 'hug', 'you', 'close']\n",
      "['Do', 'you', 'ask', 'what', 'the', 'bird', 'say', '?', 'the', 'sparrow', ',', 'the', 'dove', ',', 'the', 'linnet', 'and', 'thrush', 'say', ',', '``', 'I', 'love', 'and', 'I', 'love', '!', \"''\", 'In', 'the', 'winter', 'they', \"'re\", 'silent—th', 'wind', 'is', 'so', 'strong', ';', 'what', 'it', 'say', ',', 'I', 'do', \"n't\", 'know', ',', 'but', 'it', 'sing', 'a', 'loud', 'song', '.', 'but', 'green', 'leav', ',', 'and', 'blossom', ',', 'and', 'sunni', 'warm', 'weather', ',', 'and', 'sing', ',', 'and', 'loving—al']\n",
      "['elizabeth', 'it', 'is', 'in', 'vain', 'you', 'say', \"''\", 'love', 'not', \"''\", '—', 'thou', 'sayest', 'it', 'in', 'so', 'sweet', 'a', 'way', ':', 'In', 'vain', 'those', 'word', 'from', 'thee', 'or', 'l.e.l.zantipp', \"'s\", 'talent', 'had', 'enforc', 'so', 'well', ':', 'Ah', '!', 'if', 'that', 'languag', 'from', 'thi', 'heart', 'aris', ',', 'breath', 'it', 'less', 'gentli', 'forth', '—', 'and', 'veil', 'thine', 'eyes.endymion', ',', 'recollect', ',', 'when', 'luna', 'triedto', 'cure']\n",
      "['epithalamion', '?', 'not', 'too', 'long', 'backi', 'wa', 'be', 'iron', 'about', '“', 'wives.', '”', 'It', '’', 's', 'veri', 'well', 'to', 'say', ',', 'creation', 'thriveson', 'contradict', ',', 'but', 'that', '’', 's', 'a', 'fast', 'trackshift', 'precipit', 'into', '.', 'tacki', ',', 'some', 'might', 'say', ',', 'and', 'look', 'mildli', 'appal', '.', 'onth', 'whole', ',', 'it', '’', 's', 'one', 'I', '’', 'm', 'like', 'to', 'be', 'call', 'on.explain', 'yourself', 'or', 'face', 'the', 'music', ',', 'hack.no', 'law', 'book', 'frame']\n",
      "['four', 'lane', 'over', ',', 'a', 'plump', 'helium', 'heart—slip', ',', 'mayb', ',', 'from', 'some', 'kid', '’', 's', 'wrist', 'or', 'a', 'rush', 'lover', '’', 's', 'empti', 'passeng', 'seatthrough', 'a', 'half-crack', 'car', 'window—ris', 'like', 'a', 'shini', 'purpl', 'cloudlet', 'toward', 'today', '’', 's', 'gray', 'mess', 'of', 'cloud', ',', 'trail', 'it', 'gold', 'ribbon', 'like', 'lightningthat', 'will', 'never', 'strike', 'anyth', 'or', 'anyon', 'here', 'on', 'the', 'forsaken', 'ground', ',', 'it', 'bold', 'love', 'increasingli']\n",
      "['gaze', 'upon', 'him', 'now', ',', 'sever', 'and', 'dead', ',', 'It', 'seem', 'a', 'curiou', 'thing', 'that', 'she', 'had', 'lain', 'besid', 'him', 'mani', 'a', 'night', 'in', 'that', 'cold', 'bed', ',', 'and', 'that', 'had', 'been', 'which', 'would', 'not', 'be', 'again', '.', 'from', 'hi', 'desir', 'bodi', 'the', 'great', 'heat', 'wa', 'gone', 'at', 'last', ',', 'it', 'seem', ',', 'and', 'the', 'taut', 'nerv', 'loosen', 'forev', '.', 'formal', 'the', 'sheet', 'set']\n",
      "['give', 'me', 'hunger', ',', 'O', 'you', 'god', 'that', 'sit', 'and', 'give', 'the', 'world', 'it', 'order', '.', 'give', 'me', 'hunger', ',', 'pain', 'and', 'want', ',', 'shut', 'me', 'out', 'with', 'shame', 'and', 'failur', 'from', 'your', 'door', 'of', 'gold', 'and', 'fame', ',', 'give', 'me', 'your', 'shabbiest', ',', 'weariest', 'hunger', '!', 'but', 'leav', 'me', 'a', 'littl', 'love', ',', 'A', 'voic', 'to', 'speak', 'to', 'me', 'in', 'the', 'day', 'end', ',', 'A', 'hand', 'to']\n",
      "['give', 'to', 'imagin', 'some', 'pure', 'light', 'In', 'human', 'form', 'to', 'fix', 'it', ',', 'or', 'you', 'shame', 'the', 'devil', 'with', 'that', 'hideou', 'human', 'game', ':', '—', 'imaginationurg', 'appetit', '!', 'thu', 'fallen', 'have', 'earth', '’', 's', 'greatest', 'gogmagog', ',', 'who', 'dazzl', 'us', ',', 'whom', 'we', 'can', 'not', 'rever', ':', 'imagin', 'is', 'the', 'chariot', 'that', ',', 'in', 'default', 'of', 'better', ',', 'drive', 'the', 'hog', '.', 'So', ',', 'therefor', ',', 'my', 'dear', 'ladi', ',', 'let', 'me']\n",
      "['grandma', '’', 's', 'rosebushreminisc', 'of', 'a', 'vice', 'lord', '’', 's', 'do-rag.th', 'unfamiliar', 'bloom', 'in', 'mrs.', 'bradley', '’', 's', 'yardbang', 'a', 'gangster', 'discipl', 'style', 'blue.th', 'dandelion', 'all', 'over', 'the', 'park', 'put', 'onlatin', 'king', 'gold', 'like', 'the', 'chicano', 'catsov', 'east', 'befor', 'they', 'turn', 'into', 'a', 'puffof', 'smoke', 'like', 'all', 'us', 'color', 'boy', '.']\n",
      "['here', 'is', 'a', 'descript', 'of', 'hundr', 'of', 'year', 'in', 'which', 'I', 'never', 'comprehend', 'it', 'is', 'hundr', 'of', 'year', ',', 'pass', '“', 'We', 'live', 'togeth', ',', '”', 'I', 'write', ',', 'but', 'what', 'doe', 'that', 'meanlast', 'night', 'A.', 'convinc', 'me', 'you', 'are', 'a', 'parasit', 'OK', ',', 'you', '’', 're', 'a', 'parasit', ',', 'that', '’', 's', 'interest', 'My', 'blood', 'mix', 'with', 'the', 'blood', 'of', 'the', 'flea', 'and', 'we', '’', 're']\n",
      "['hi', 'art', 'unkempt', 'strawberri', 'blond', 'head', 'sport', 'outsiz', 'headphon', '.', 'like', 'a', 'contemporari', 'bust', '.', 'behold', 'the', 'innoc', 'of', 'the', 'freckl', ',', 'ripe', 'pout', 'of', 'cherri', 'lip', '.', 'As', 'if', 'the', 'mere', 'sight', 'of', 'the', 'world', 'hurt', 'him', ',', 'he', 'squint', 'greenli', 'and', 'appli', 'salin', 'drop', '.', 'you', 'dream', 'him', 'cri', 'over', 'you', '.', 'for', 'the', 'durat']\n",
      "['how', 'do', 'I', 'love', 'thee', '?', 'let', 'me', 'count', 'the', 'way', '.', 'I', 'love', 'thee', 'to', 'the', 'depth', 'and', 'breadth', 'and', 'height', 'My', 'soul', 'can', 'reach', ',', 'when', 'feel', 'out', 'of', 'sight', 'for', 'the', 'end', 'of', 'be', 'and', 'ideal', 'grace', '.', 'I', 'love', 'thee', 'to', 'the', 'level', 'of', 'everi', 'day', \"'s\", 'most', 'quiet', 'need', ',', 'by', 'sun', 'and', 'candle-light', '.', 'I', 'love', 'thee']\n",
      "['how', 'love', 'came', 'in', 'I', 'do', 'not', 'know', ',', 'whether', 'by', 'the', 'eye', ',', 'or', 'ear', ',', 'or', 'no', ';', 'Or', 'whether', 'with', 'the', 'soul', 'it', 'came', '(', 'At', 'first', ')', 'infus', 'with', 'the', 'same', ';', 'whether', 'in', 'part', '’', 'ti', 'here', 'or', 'there', ',', 'Or', ',', 'like', 'the', 'soul', ',', 'whole', 'everywher', ',', 'thi', 'troubl', 'me', ':', 'but', 'I', 'as', 'wella', 'ani', 'other', 'thi', 'can', 'tell', ':', 'that', 'when', 'from']\n",
      "['how', 'much', 'histori', 'is', 'enough', 'histori', 'befor', 'we', 'can', 'agreeto', 'flee', 'our', 'daycar', 'to', 'wash', 'everyth', 'away', 'and', 'start', 'overleav', 'laptop', 'to', 'be', 'lost', 'in', 'the', 'wet', 'along', 'with', 'housecat', 'and', 'christ', '’', 'sown', 'mother', 'even', 'a', 'lobster', 'climb', 'away', 'from', 'it', 'shell', 'a', 'fewtim', 'a', 'life', 'but', 'everi', 'time', 'I', 'open']\n",
      "['how', 'to', 'love', 'like', 'water', 'love', 'when', 'it', '’', 's', 'imposs', 'to', 'even', 'tast', 'all', 'the', 'ghostli', 'sediment', 'each', 'time', 'you', 'take', 'a', 'sipimposs', 'to', 'savor', 'the', 'salt', 'in', 'your', 'blood', 'the', 'light', 'and', 'island', 'shorelin', 'in', 'each', 'live', 'cellwhen', 'even', 'the', 'plainest', 'mouth', 'tast', 'more', 'of', 'you', 'than', 'you', 'of', 'itsweetest', 'of', 'absenc', 'that', 'free', 'in', 'wave', 'after', 'wave', 'debri']\n",
      "['I', 'am', 'the', 'poet', 'of', 'the', 'bodi', 'and', 'I', 'am', 'the', 'poet', 'of', 'the', 'soul', ',', 'the', 'pleasur', 'of', 'heaven', 'are', 'with', 'me', 'and', 'the', 'pain', 'of', 'hell', 'are', 'with', 'me', ',', 'the', 'first', 'I', 'graft', 'and', 'increas', 'upon', 'myself', ',', 'the', 'latter', 'I', 'translat', 'into', 'a', 'new', 'tongue.i', 'am', 'the', 'poet', 'of', 'the', 'woman']\n",
      "['I', 'am', 'your', 'as', 'the', 'summer', 'air', 'at', 'even', 'ispossess', 'by', 'the', 'scent', 'of', 'linden', 'blossom', ',', 'As', 'the', 'snowcap', 'gleam', 'with', 'lightlent', 'it', 'by', 'the', 'brim', 'moon.without', 'you', 'I', \"'d\", 'be', 'an', 'unleaf', 'treeblast', 'in', 'a', 'bleak', 'with', 'no', 'spring.your', 'love', 'is', 'the', 'weather', 'of', 'my', 'being.what', 'is', 'an', 'island', 'without', 'the']\n",
      "['I', 'call', 'my', 'father', 'dure', 'halftim', 'when', 'the', 'irish', 'are', 'on', 'TV', '.', '(', 'famili', 'histori', ':', 'my', 'father', 'call', 'hi', 'father', 'from', 'a', 'rotari', 'phone', 'screw', 'to', 'the', 'wall', '.', ')', 'It', '’', 's', 'good', 'to', 'hear', 'my', 'father', '’', 's', 'voic', ',', 'to', 'have', 'cellular', 'access', 'to', 'familiar', 'sound', ':', 'hi', 'admonish', ',', 'hi', 'prais', 'and', 'anger', '.', '(', 'memori', 'of', 'bedtim', 'song', 'he', '’', 'd', 'sing', 'on']\n",
      "['I', 'can', 'not', 'live', 'with', 'you', '–', 'It', 'would', 'be', 'life', '–', 'and', 'life', 'is', 'over', 'there', '–', 'behind', 'the', 'shelfth', 'sexton', 'keep', 'the', 'key', 'to', '–', 'put', 'up', 'our', 'life', '–', 'hi', 'porcelain', '–', 'like', 'a', 'cup', '–', 'discard', 'of', 'the', 'housewif', '–', 'quaint', '–', 'or', 'broke', '–', 'A', 'newer', 'sevr', 'pleas', '–', 'old', 'one', 'crack', '–', 'I', 'could', 'not', 'die', '–', 'with', 'you', '–', 'for', 'one', 'must', 'wait', 'To', 'shut', 'the', 'other', \"'s\", 'gaze', 'down', '–', 'you', '–', 'could', 'not', '–', 'and', 'I', '–', 'could', 'I', 'stand', 'by', 'and']\n",
      "['I', 'cut', 'myself', 'upon', 'the', 'thought', 'of', 'youand', 'yet', 'I', 'come', 'back', 'to', 'it', 'again', 'and', 'again', ',', 'A', 'kind', 'of', 'furi', 'make', 'me', 'want', 'to', 'draw', 'you', 'outfrom', 'the', 'dim', 'of', 'the', 'presentand', 'set', 'you', 'sharpli', 'abov', 'me', 'in', 'a', 'wheel', 'of', 'roses.then', ',', 'go', 'obvious', 'to', 'inhal', 'their', 'fragranc', ',', 'I', 'touch', 'the']\n",
      "['I', 'dream', 'I', 'stood', 'upon', 'a', 'littl', 'hill', ',', 'and', 'at', 'my', 'feet', 'there', 'lay', 'a', 'ground', ',', 'that', 'seemedlik', 'a', 'wast', 'garden', ',', 'flower', 'at', 'it', 'willwith', 'bud', 'and', 'blossom', '.', 'there', 'were', 'pool', 'that', 'dreamedblack', 'and', 'unruffl', ';', 'there', 'were', 'white', 'liliesa', 'few', ',', 'and', 'crocus', ',', 'and', 'violetspurpl', 'or']\n",
      "['I', 'dream', 'I', 'wa', 'a', 'mannequin', 'in', 'the', 'pawnshop', 'windowof', 'your', 'conjectures.i', 'dream', 'I', 'wa', 'a', 'chant', 'in', 'the', 'mouth', 'of', 'a', 'monk', ',', 'saffron-rob', 'syllabl', 'in', 'the', 'religion', 'of', 'you.i', 'dream', 'I', 'wa', 'a', 'lament', 'to', 'hear', 'the']\n",
      "['I', 'have', 'been', 'so', 'great', 'a', 'lover', ':', 'fill', 'my', 'day', 'So', 'proudli', 'with', 'the', 'splendour', 'of', 'love', \"'s\", 'prais', ',', 'the', 'pain', ',', 'the', 'calm', ',', 'and', 'the', 'astonish', ',', 'desir', 'illimit', ',', 'and', 'still', 'content', ',', 'and', 'all', 'dear', 'name', 'men', 'use', ',', 'to', 'cheat', 'despair', ',', 'for', 'the', 'perplex', 'and', 'viewless', 'stream', 'that', 'bear', 'our', 'heart', 'at', 'random', 'down', 'the', 'dark', 'of', 'life', '.', 'now', ',']\n",
      "['I', 'have', 'more', 'love', 'than', 'ever.our', 'kid', 'have', 'kid', 'soon', 'to', 'have', 'kids.i', 'need', 'them', '.', 'I', 'need', 'everyoneto', 'come', 'over', 'to', 'the', 'hous', ',', 'sleep', 'on', 'the', 'floor', ',', 'on', 'the', 'couchesin', 'the', 'front', 'room', '.', 'I', 'need', 'nois', ',', 'too', 'mani', 'peopl', 'in', 'too', 'small', 'a', 'space', ',', 'I', 'need', 'danc', ',', 'the', 'spill', 'of', 'drink', ',', 'the', 'loud', 'pronouncementsov']\n",
      "['I', 'lie', 'here', 'think', 'of', 'you', ':', '—the', 'stain', 'of', 'love', 'is', 'upon', 'the', 'world', '!', 'yellow', ',', 'yellow', ',', 'yellow', 'it', 'eat', 'into', 'the', 'leav', ',', 'smear', 'with', 'saffron', 'the', 'horn', 'branch', 'that', 'lean', 'heavili', 'against', 'a', 'smooth', 'purpl', 'sky', '!', 'there', 'is', 'no', 'light', 'onli', 'a', 'honey-thick', 'stain', 'that', 'drip', 'from', 'leaf', 'to', 'leaf', 'and', 'limb', 'to', 'limb', 'spoil', 'the', 'color', 'of', 'the', 'whole', 'world—you', 'far', 'off', 'there']\n",
      "['I', 'love', 'a', 'white', 'v-neck', 't-shirton', 'you', ':', 'two', 'cotton', 'strip', 'racingto', 'a', 'point', 'they', 'both', 'arriv', 'at', ':', 'therevigor', 'bare', 'contain', ',', 'flame', 'hair', ',', 'collarless', ',', 'fenced-in', 'skin', 'that', 'shines.cool', 'drop', 'of', 'hem', ',', 'soft', '&', 'lived-in', ',', 'so', 'unlik', 'my', 'father', ',', 'to', 'bed', 'you', 'go', ',', 'flush', 'with', 'fur', 'in', 'a', 'rabbit', '’', 's', 'burrowor', 'nest', 'for', 'a', 'flightless', 'bird', ',']\n",
      "['I', 'make', 'shiratama', 'and', 'take', 'them', 'to', 'my', 'man', 'I', 'heat', 'the', 'sugar', 'and', 'form', 'syrup', 'put', 'in', 'the', 'boil', 'dumpl', 'and', 'cool', 'them', 'I', 'seal', 'them', 'tight', 'and', 'take', 'them', 'all', 'the', 'shiratama', 'stick', 'to', 'the', 'bottom', 'the', 'surfac', 'of', 'the', 'shiratama', 'are', 'torn', 'their', 'round', 'shape', 'are', 'distort', 'I', 'scoop', 'them', 'up', 'with', 'a', 'spoon', 'hey', '!', 'look', '!', 'scoop', 'them', 'out', 'So', 'they', 'do', \"n't\"]\n",
      "['I', 'never', 'thought', 'I', '’', 'd', 'keep', 'a', 'record', 'of', 'my', 'painor', 'happinesslik', 'candl', 'light', 'the', 'entir', 'soft', 'laceof', 'the', 'airaround', 'the', 'full', 'length', 'of', 'your', 'hair/a', 'showerorgan', 'by', 'godin', 'brown', 'and', 'auburnundul', 'lumin', 'like', 'particlesof', 'flamebut', 'now', 'I', 'doretriev', 'an', 'afternoon', 'of', 'apricotsand', 'water', 'interspers', 'with', 'cigarettesand', 'sand', 'and', 'rocksw', 'walk']\n",
      "['I', 'saw', 'her', 'once—h', 'eye', '’', 's', 'deep', 'lightfel', 'on', 'my', 'spirit', '’', 's', 'deeper', 'night', ',', 'the', 'onli', 'beam', 'that', 'e', '’', 'er', 'illumedit', 'shadow', 'drear', '.', 'the', 'glanc', 'wa', 'slight', ',', 'but', 'oh', ',', 'what', 'soft', 'it', 'assum', '!', 'I', 'saw', 'her', 'twice—h', 'glanc', 'againlit', 'up', 'it', 'fire', 'within', 'my', 'brain', ';', 'My', 'thought', 'leap', 'up', ',', 'like', 'lightn', 'warm', ',', 'and', 'felt', 'a']\n",
      "['I', 'sing', 'the', 'will', 'to', 'love', ':', 'the', 'will', 'that', 'carv', 'the', 'will', 'to', 'live', ',', 'the', 'will', 'that', 'sap', 'the', 'will', 'to', 'hurt', ',', 'the', 'will', 'that', 'kill', 'the', 'will', 'to', 'die', ';', 'the', 'will', 'that', 'made', 'and', 'keep', 'you', 'warm', ',', 'the', 'will', 'that', 'point', 'your', 'eye', 'ahead', ',', 'the', 'will', 'that', 'make', 'you', 'give', ',', 'not', 'get', ',', 'a', 'give', 'and', 'get']\n",
      "['I', 'think', 'I', 'should', 'have', 'love', 'you', 'present', ',', 'and', 'given', 'in', 'earnest', 'word', 'I', 'flung', 'in', 'jest', ';', 'and', 'lift', 'honest', 'eye', 'for', 'you', 'to', 'see', ',', 'and', 'caught', 'your', 'hand', 'against', 'my', 'cheek', 'and', 'breast', ';', 'and', 'all', 'my', 'pretti', 'folli', 'flung', 'asid', 'that', 'won', 'you', 'to', 'me', ',', 'and', 'beneath', 'your', 'gaze', ',', 'nake', 'of', 'retic', 'and', 'shorn', 'of']\n",
      "['I', 'took', 'the', 'train', 'from', 'patiala', ',', 'left', 'the', 'girl', 'with', 'ayah', ',', 'and', 'lie', ',', 'I', \"'m\", 'with', 'fay', 'and', 'daisy.had', 'to', 'say', 'what', 'he', \"'d\", 'approv', 'of', '.', 'Go', 'then', ',', 'kiran', 'said', ',', 'crush', 'larg', 'rupe', 'in', 'my', 'hand.hav', 'I', 'been', 'here', 'a', 'week', '?', 'I', \"'ve\", 'slept', 'so', 'long', 'I', 'ca', \"n't\", 'rememb', 'who', 'wa']\n",
      "['I', 'turn', 'on', 'the', 'radio', 'and', 'hear', 'hors', ',', 'girl', 'becom', 'women', 'after', 'tragedi', '.', 'talk', 'about', 'dream', '!', 'hi', 'heart', 'wa', 'cover', 'in', 'a', 'thin', 'shell', 'the', 'color', 'of', 'the', 'moon', ',', 'and', 'when', 'touch', ',', 'I', '’', 'd', 'grow', 'old', '.', 'the', 'best', 'movi', 'have', 'a', 'philosophi', ',', 'dorothi', ',', 'after', 'be', 'subject', 'to', 'witch-on-girl', 'violenc', ',', 'is', 'rescu', '.']\n",
      "['i.sh', 'walk', 'in', 'beauti', ',', 'like', 'the', 'night', 'Of', 'cloudless', 'clime', 'and', 'starri', 'sky', ';', 'and', 'all', 'that', \"'s\", 'best', 'of', 'dark', 'and', 'bright', 'meet', 'in', 'her', 'aspect', 'and', 'her', 'eye', ':', 'thu', 'mellow', 'to', 'that', 'tender', 'light', 'which', 'heaven', 'to', 'gaudi', 'day', 'denies.ii.on', 'shade', 'the', 'more', ',']\n",
      "['If', 'ever', 'two', 'were', 'one', ',', 'then', 'sure', 'we', '.', 'If', 'ever', 'man', 'were', 'love', 'by', 'wife', ',', 'then', 'thee', ';', 'If', 'ever', 'wife', 'wa', 'happi', 'in', 'a', 'man', ',', 'compar', 'with', 'me', 'ye', 'women', 'if', 'you', 'can', '.', 'I', 'prize', 'thi', 'love', 'more', 'than', 'whole', 'mine', 'of', 'gold', ',', 'Or', 'all', 'the', 'rich', 'that', 'the', 'east', 'doth', 'hold', '.', 'My', 'love', 'is', 'such']\n",
      "['if', 'i', 'believein', 'death', 'be', 'sureof', 'thisit', 'is', 'becaus', 'you', 'have', 'love', 'me', ',', 'moon', 'and', 'sunsetstar', 'and', 'flowersgold', 'crescendo', 'and', 'silver', 'mute', 'of', 'seatidesi', 'trust', 'not', ',']\n",
      "['If', 'I', 'had', 'love', 'you', ',', 'soon', ',', 'ah', ',', 'soon', 'I', 'had', 'lost', 'you.had', 'I', 'been', 'kind', 'you', 'had', 'kiss', 'me', 'and', 'gone', 'your', 'faithless', 'way.th', 'kiss', 'that', 'I', 'would', 'not', 'give', 'is', 'the', 'kiss', 'that', 'your', 'lip', 'are', 'hold', ':', 'now', 'you', 'are', 'mine', 'forev', ',', 'becaus', 'of', 'all', 'I', 'have', 'cost', 'you', '.']\n",
      "['if', 'I', 'had', 'two', 'nickel', 'to', 'rub', 'togetheri', 'would', 'rub', 'them', 'togetherlik', 'a', 'kid', 'rub', 'stick', 'togetheruntil', 'friction', 'made', 'combustionand', 'they', 'burn', 'a', 'hole', 'in', 'my', 'pocketinto', 'which', 'I', 'would', 'put', 'my', 'handand', 'then', 'my', 'armand', 'eventu', 'my', 'whole', 'self––i', 'would', 'fold', 'myselfinto', 'the', 'hole', 'in', 'my', 'pocket', 'and', 'disappear', 'into', 'the']\n",
      "['If', 'you', 'were', 'onc', 'insid', 'my', 'circl', 'of', 'loveand', 'from', 'thi', 'circl', 'are', 'now', 'exclud', ',', 'and', 'all', 'my', 'love', \"'s\", 'citizen', 'I', 'love', 'more', 'than', 'you', ',', 'if', 'you', 'were', 'onc', 'my', 'lover', 'but', 'I', \"'ve\", 'stoppedlet', 'you', ',', 'what', 'is', 'the', 'view', 'from', 'outsidemi', 'love', \"'s\", 'limit', '?', 'doe', 'my', 'love', \"'s\", 'interior', 'emitupward', 'and', 'cut', 'into', 'night', '?']\n",
      "['imagin', 'a', 'tulip', ',', 'upon', 'see', 'a', 'garden', 'full', 'of', 'tulip', ',', 'shed', 'it', 'petal', 'in', 'disgust', ',', 'pray', 'some', 'bee', 'will', 'bring', 'it', 'pollen', 'to', 'a', 'rose', 'bush', '.', 'imagin', 'shadow', 'long', 'for', 'a', 'room', 'with', 'light', 'in', 'everi', 'direct', '.', 'you', 'look', 'in', 'the', 'mirror', '&', 'see', 'a', 'man', 'you', 'refus', 'to', 'love', '.']\n",
      "['In', 'a', 'churchyard', 'old', 'and', 'still', ',', 'where', 'the', 'breeze-touch', 'branch', 'thrillto', 'and', 'fro', ',', 'giant', 'oak', 'tree', 'blend', 'their', \"shadeo'\", 'a', 'sunken', 'grave-mound', ',', 'made']\n",
      "['In', 'my', 'time', ',', 'I', 'wa', 'a', 'girl', 'who', 'like', 'to', 'spree', '.', 'the', 'whole', 'world', 'would', 'open', 'fi', 'miif', 'I', 'shift', 'mi', 'hip', 'to', 'strain', 'the', 'fabric', 'of', 'mi', 'skirt', ',', 'just', 'so.stil', ',', 'I', 'did', 'learn', 'mi', 'lesson', 'where', 'love', 'concern', ':', 'if', 'snake', 'bite', 'yu', ',', 'when', 'yu', 'see', 'even', 'lizard', ',', 'crawl', 'with', 'him', 'belli', 'on', 'ground', ',', 'yu']\n",
      "['In', 'the', 'middl', 'garden', 'is', 'the', 'secret', 'wed', ',', 'that', 'hide', 'alway', 'under', 'the', 'other', 'oneand', 'under', 'the', 'shini', 'thing', 'of', 'the', 'other', 'one', '.', 'under', 'a', 'treeon', 'hand', 'reach', 'through', 'the', 'graini', 'dusk', 'toward', 'another.two', 'right', 'hand', '.', 'the', 'ring', 'is', 'a', 'weed', 'that', 'will', 'sure', 'die', '.']\n",
      "['in', 'the', 'rain-', 'dark', ',', 'the', 'sunset', 'be', 'sheath', 'i', 'sit', 'and', 'think', 'of', 'youth', 'holi', 'citi', 'which', 'is', 'your', 'face', 'your', 'littl', 'cheek', 'the', 'street', 'of', 'smilesyour', 'eye', 'half-', 'thrush', 'half-angel', 'and', 'your', 'drowsi', 'lip', 'where', 'float', 'flower', 'of', 'kissand', 'there', 'is', 'the', 'sweet', 'shi', 'pirouett', 'your', 'hair', 'and', 'thenyour', 'dancesong', 'soul', '.']\n",
      "['isink', 'down', 'by', 'the', 'gate', 'I', 'discern', 'the', 'thin', 'moon', ',', 'and', 'a', 'blackbird', 'tri', 'over', 'old', 'air', 'in', 'the', 'pine', ',', 'but', 'the', 'moon', 'is', 'a', 'sorri', 'one', ',', 'sad', 'the', 'bird', '’', 's', 'tune', ',', 'for', 'thi', 'spot', 'is', 'unknown', 'to', 'that', 'heartmat', 'of', 'mine.iidid', 'my', 'heartmat', 'but', 'haunt', 'here', 'at', 'time', 'such', 'as', 'now', ',', 'the', 'song', 'would']\n",
      "['It', 'flare', 'up', 'at', 'sunris', ',', 'a', 'blush', 'in', 'a', 'brambl', 'tumbl', 'out', 'of', 'it', 'bed', 'by', 'the', 'citi', 'pavement—a', 'singl', 'rose', ',', 'coral', 'heat', ',', 'at', 'the', 'end', 'of', 'the', 'season', '.']\n",
      "['It', 'wa', 'easi', 'enough', 'to', 'bend', 'them', 'to', 'my', 'wish', ',', 'it', 'wa', 'easi', 'enough', 'to', 'alter', 'them', 'with', 'a', 'touch', ',', 'but', 'you', 'adrift', 'on', 'the', 'great', 'sea', ',', 'how', 'shall', 'I', 'call', 'you', 'back', '?', 'cedar', 'and', 'white', 'ash', ',', 'rock-cedar', 'and', 'sand', 'plant', 'and', 'tamarisk', 'red', 'cedar', 'and', 'white', 'cedar', 'and', 'black', 'cedar', 'from', 'the', 'inmost', 'forest', ',', 'fragranc', 'upon', 'fragranc', 'and', 'all', 'of', 'my', 'sea-mag']\n",
      "['It', \"'s\", 'all', 'I', 'have', 'to', 'bring', 'today—thi', ',', 'and', 'my', 'heart', 'beside—thi', ',', 'and', 'my', 'heart', ',', 'and', 'all', 'the', 'fields—and', 'all', 'the', 'meadow', 'wide—b', 'sure', 'you', 'count—should', 'I', 'forgetsom', 'one', 'the', 'sum', 'could', 'tell—thi', ',', 'and', 'my', 'heart', ',', 'and', 'all', 'the', 'beeswhich', 'in', 'the', 'clover', 'dwell', '.']\n",
      "['It', \"'s\", 'not', 'the', 'first', 'time', 'we', \"'ve\", 'bitten', 'into', 'a', 'peach', '.', 'but', 'now', 'at', 'the', 'same', 'time', 'it', 'split', '--', 'half', 'for', 'each', '.', 'our', '``', 'then', \"''\", 'is', 'insid', 'it', '``', 'now', ',', \"''\", 'it', 'halv', 'pit', 'unflesh', '--', 'what', 'wa', 'refresh', '.', 'two', 'happi', 'unfold', 'from', 'one', 'joy', ',', 'folio', '.', 'In', 'a', 'hotel', 'room', 'our', 'moment', 'lie', 'with', 'it', 'ode', 'insid', ',', 'a', 'red', 'ting', ',', 'with', 'a', 'hing', '.']\n",
      "['It', '’', 's', 'the', 'last', 'few', 'hour', 'of', 'a', 'counti', 'fair', ',', 'or', 'the', 'ninth', 'inning', ',', 'score', 'tie', ',', 'in', 'a', 'small-town', 'high', 'school', 'big', 'game', ',', 'everyth', 'that', '’', 's', 'go', 'to', 'happen', 'destin', 'to', 'feel', 'inevit', '.', 'everett', '’', 's', 'favorit', 'cow', 'ha', 'yet', 'to', 'win', 'a', 'prize', ',', 'and', 'what', 'occur', 'next', 'on', 'the', 'field', 'will', 'like', 'determin', 'whether', 'a', 'certain', 'boy', ',', 'year', 'later', ',']\n",
      "['lay', 'your', 'sleep', 'head', ',', 'my', 'love', ',', 'human', 'on', 'my', 'faithless', 'arm', ';', 'time', 'and', 'fever', 'burn', 'away', 'individu', 'beauti', 'from', 'thought', 'children', ',', 'and', 'the', 'grave', 'prove', 'the', 'child', 'ephemer', ':', 'but', 'in', 'my', 'arm', 'till', 'break', 'of', 'day', 'let', 'the', 'live', 'creatur', 'lie', ',', 'mortal', ',', 'guilti', ',', 'but', 'to', 'me', 'the', 'entir', 'beautiful.soul', 'and', 'bodi', 'have', 'no', 'bound', ':', 'To', 'lover', 'as', 'they', 'lie', 'upon', 'her']\n",
      "['let', 'me', 'not', 'to', 'the', 'marriag', 'of', 'true', 'mindsadmit', 'impedi', '.', 'love', 'is', 'not', 'lovewhich', 'alter', 'when', 'it', 'alter', 'find', ',', 'Or', 'bend', 'with', 'the', 'remov', 'to', 'remov', ':', 'O', ',', 'no', '!', 'it', 'is', 'an', 'ever-fix', 'mark', ',', 'that', 'look', 'on', 'tempest', 'and', 'is', 'never']\n",
      "['light', 'drift', 'across', 'the', 'ceil', 'as', 'if', 'we', 'are', 'under', 'water—whoev', 'would', 'approach', 'you', 'you', 'chang', 'the', 'comery', 'hold', 'on', 'to', 'the', 'front', 'of', 'my', 'coat', 'with', 'both', 'hand', ',', 'the', 'last', 'time', 'I', 'saw', 'you—i', 'felt', 'your', 'death', 'come', 'close', '—the', 'chang', 'in', 'your', 'red', 'lipsyou', 'gave', 'me', 'your', 'hand', '.', 'you', 'pull', 'me', 'out', 'of']\n",
      "['line', 'written', 'TO', 'AN', 'album', 'print.a', 'on', 'thi', 'pictur', 'page', 'I', 'look', ',', 'thi', 'pretti', 'tale', 'of', 'line', 'and', 'hook', 'As', 'though', 'it', 'were', 'a', 'novel-book', 'amus', 'and', 'engag', ':', 'I', 'know', 'them', 'both', ',', 'the', 'boy', 'and', 'girl', ';', 'she']\n",
      "['love', 'is', 'a', 'breach', 'in', 'the', 'wall', ',', 'a', 'broken', 'gate', ',', 'where', 'that', 'come', 'in', 'that', 'shall', 'not', 'go', 'again', ';', 'love', 'sell', 'the', 'proud', 'heart', '’', 's', 'citadel', 'to', 'fate', '.', 'they', 'have', 'known', 'shame', ',', 'who', 'love', 'unlov', '.', 'even', 'then', ',', 'when', 'two', 'mouth', ',', 'thirsti', 'each', 'for', 'each', ',', 'find', 'slake', ',', 'and', 'agoni', '’', 's', 'forgot', ',', 'and', 'hush', 'the', 'cryingof']\n",
      "['love', 'remain', 'a', 'kind', 'of', 'present', 'tens', '.', 'thi', 'is', 'how', 'we', 'describ', 'the', 'scene', 'in', 'photographs—a', 'though', 'the', 'action', 'in', 'them', 'were', 'still', 'happen', '.', 'My', 'father', 'is', 'throw', 'a', 'rock', 'in', 'thi', 'pictur', '.', 'My', 'father', 'keep', 'lion', 'in', 'hi', 'chest', '&', 'they', 'rip', 'apart', 'a', 'gazel', 'in', 'thi', 'picture.a', 'man']\n",
      "['love', ',', 'though', 'for', 'thi', 'you', 'riddl', 'me', 'with', 'dart', ',', 'and', 'drag', 'me', 'at', 'your', 'chariot', 'till', 'I', 'die—oh', ',', 'heavi', 'princ', '!', 'oh', ',', 'pander', 'of', 'heart', '!', '—', 'yet', 'hear', 'me', 'tell', 'how', 'in', 'their', 'throat', 'they', 'liewho', 'shout', 'you', 'mighti', ':', 'thick', 'about', 'my', 'hair', ',', 'day', 'in', ',', 'day', 'out', ',', 'your', 'omin', 'arrow', 'purr', ',', 'who', 'still']\n",
      "['It', 'is', 'not', 'grow', 'like', 'a', 'tree']\n",
      "['line', 'written', 'IN', 'the', 'vale', 'OF', 'chamounith', 'everlast', 'univers', 'of', 'thing', 'flow', 'through', 'the', 'mind', ',', 'and', 'roll', 'it', 'rapid', 'wave', ',', 'now', 'dark—now', 'glittering—now', 'reflect', 'gloom—', 'now', 'lend', 'splendour', ',', 'where', 'from', 'secret', 'spring', 'the', 'sourc', 'of', 'human', 'thought', 'it', 'tribut', 'bring', 'Of', 'water', ',', '—with', 'a', 'sound', 'but', 'half', 'it', 'own', ',', 'such', 'as', 'a', 'feebl', 'brook']\n",
      "['1', 'muddl', 'stillnessal', 'summer', 'sunpunch', 'the', 'yellow', 'jacket', 'nest', 'cavern', 'paper', 'valv', 'like', 'a', 'parch', 'heart', 'over', 'and', 'over', 'I', 'let', 'it', 'beat', 'outsid', 'My', 'bodi', 'No', 'dark', 'to', 'cradl', 'the', 'live', 'part2', 'the', 'glare', 'sear', 'see']\n",
      "['all', 'natur', 'seem', 'at', 'work', '.', 'slug', 'leav', 'their', 'lair—']\n",
      "['and', 'on', 'the', 'first', 'daygod', 'madesometh', 'up.then', 'everyth', 'came', 'along', ':', 'second', ',', 'sex', 'andbeast', 'and', 'breath', 'and', 'rabi', ';', 'hunger', ',', 'heal', ',', 'lust', 'and', 'lust', '’', 's', 'reject', ';', 'swarm', 'thing', 'that', 'swarminsid', 'the', 'dirt', ';', 'girth', 'and', 'grindand', 'grit', 'and', 'shit', 'and', 'all', 'shit', '’', 's', 'function', ';', 'ring', 'insid', 'the', 'treetrunkand']\n",
      "['arriv', 'with', 'throat', 'like', 'nip', 'rose', ',', 'like', 'a', 'tini', 'bloom', 'fasten', 'to', 'each', 'neck', ',', 'noth', 'els', 'cut', 'the', 'air', 'quit', 'like', 'thi', 'thrum', 'to', 'make', 'the', 'small', 'dog', 'at', 'my', 'feet', 'whine', 'and', 'yelp', '.', 'So', 'we', 'wait—no', 'excit', 'pin', 'to', 'the', 'sky', 'so', 'needl', 'and', 'our', 'day', 'open', 'full', 'of', 'rain', 'for', 'week', '.', 'noth', 'yet']\n",
      "['As', 'in', 'green', ',', 'vert', ',', 'a', 'royal', 'demesn', 'stock', 'with', 'deer', '.', 'invert', 'as', 'in', 'tippeda', 'a', 'snow', 'globe', ',', 'go', 'nowher', 'in', 'circlesbut', 'not', 'lost', ',', 'not', 'bereft', 'as', 'the', 'woodwithout', 'deer', ',', 'wait', 'for', 'the', 'white', 'antleredbuck', ',', 'or', 'hi', 'doe', ',', 'or', 'ani', 'slim', 'yearlingto', 'step', 'along', 'the', 'berm', ',', 'return', '.', 'vertigoa', 'in', 'whirl', 'round', ',']\n",
      "['behold', 'that', 'tree', ',', 'in', 'autumn', '’', 's', 'dim', 'decay', ',', 'stript', 'by', 'the', 'frequent', ',', 'chill', ',', 'and', 'eddi', 'wind', ';', 'where', 'yet', 'some', 'yellow', ',', 'lone', 'leav', 'we', 'find', 'linger', 'and', 'trembl', 'on', 'the', 'nake', 'spray', ',', 'twenti', ',', 'perchanc', ',', 'for', 'million', 'whirl', \"'d\", 'away', '!', 'emblem', ',', 'ala', '!']\n",
      "['five', 'year', 'have', 'past', ';', 'five', 'summer', ',', 'with', 'the', 'length', 'Of', 'five', 'long', 'winter', '!', 'and', 'again', 'I', 'hear', 'these', 'water', ',', 'roll', 'from', 'their', 'mountain-spr', 'with', 'a', 'soft', 'inland', 'murmur.—onc', 'again', 'Do', 'I', 'behold', 'these', 'steep', 'and', 'lofti', 'cliff', ',', 'that', 'on', 'a', 'wild', 'seclud', 'scene', 'impress', 'thought', 'of', 'more', 'deep', 'seclus', ';', 'and', 'connect', 'the', 'landscap', 'with', 'the', 'quiet', 'of']\n",
      "['I', 'have', 'been', 'a', 'spendthrift', 'drop', 'from', 'lazi', 'finger', 'quiet', 'colour', 'hour', ',', 'flutter', 'away', 'from', 'me', 'like', 'oak', 'and', 'beech', 'leav', 'in', 'october.i', 'have', 'live', 'keenli', 'and', 'wast', ',', 'like', 'a', 'bush', 'or', 'a', 'sun', 'insect—', 'live', 'sensual', 'and', 'thought', ',', 'love', 'the', 'flesh', 'and', 'the', 'beauti', 'of', 'thi', 'world—', 'green', 'ivi', 'about', 'ruin', 'tower', ',', 'the', 'out-pour', 'of', 'the', 'grey', 'sea', ',', 'and']\n",
      "['I', 'wander', 'lone', 'as', 'a', 'cloud', 'that', 'float', 'on', 'high', \"o'er\", 'vale', 'and', 'hill', ',', 'when', 'all', 'at', 'onc', 'I', 'saw', 'a', 'crowd', ',', 'A', 'host', 'of', 'golden', 'daffodil', ';', 'besid', 'the', 'lake', ',', 'beneath', 'the', 'tree', ',', 'flutter', 'and', 'danc', 'in', 'the', 'breeze.continu', 'as', 'the', 'star', 'that', 'shine', 'and', 'twinkl', 'on', 'the', 'milki', 'way', ',', 'they', 'stretch', 'in', 'never-end', 'line', 'along', 'the', 'margin']\n",
      "['I', 'will', 'aris', 'and', 'go', 'now', ',', 'and', 'go', 'to', 'innisfre', ',', 'and', 'a', 'small', 'cabin', 'build', 'there', ',', 'of', 'clay', 'and', 'wattl', 'made', ':', 'nine', 'bean-row', 'will', 'I', 'have', 'there', ',', 'a', 'hive', 'for', 'the', 'honey-be', ';', 'and', 'live', 'alon', 'in', 'the', 'bee-loud', 'glade.and', 'I', 'shall', 'have', 'some', 'peac', 'there', ',', 'for', 'peac', 'come', 'drop', 'slow', ',', 'drop', 'from', 'the', 'veil']\n",
      "['Is', 'thi', 'a', 'time', 'to', 'be', 'cloudi', 'and', 'sad', ',', 'when', 'our', 'mother', 'natur', 'laugh', 'around', ';', 'when', 'even', 'the', 'deep', 'blue', 'heaven', 'look', 'glad', ',', 'and', 'glad', 'breath', 'from', 'the', 'blossom', 'ground', '?', 'there', 'are', 'note', 'of', 'joy', 'from', 'the', 'hang-bird', 'and', 'wren', ',', 'and', 'the', 'gossip', 'of', 'swallow', 'through', 'all', 'the', 'sky', ';', 'the', 'ground-squirrel', 'gaili', 'chirp', 'by', 'hi', 'den', ',', 'and']\n",
      "['just', 'like', 'as', 'in', 'a', 'nest', 'of', 'box', 'round', ',', 'degre', 'of', 'size', 'in', 'each', 'box', 'are', 'found', ':', 'So', ',', 'in', 'thi', 'world', ',', 'may', 'mani', 'other', 'be', 'thinner', 'and', 'less', ',', 'and', 'less', 'still', 'by', 'degre', ':', 'although', 'they', 'are', 'not', 'subject', 'to', 'our', 'sens', ',', 'A', 'world', 'may', 'be', 'no', 'bigger', 'than', 'two-penc', '.', 'natur', 'is', 'curiou', ',', 'and', 'such', 'work', 'may']\n",
      "['love', 'me', 'stupid', '.', 'love', 'me', 'terribl', '.', 'and', 'when', 'I', 'am', 'no', 'mountain', 'but', 'rather', 'a', 'monsoon', 'of', 'imperfect', 'thunder', 'love', 'me', '.', 'when', 'I', 'am', 'blue', 'in', 'my', 'face', 'from', 'swallow', 'myself', 'yet', 'wear', 'my', 'best', 'heart', 'even', 'if', 'my', 'best', 'heart', 'is', 'a', 'centuri', 'of', 'hunger', 'an', 'angri', 'mule', 'breath', 'hard', 'or', 'perhap', 'even', 'hope', '.', 'A', 'small', 'sun', '.', 'littl', '&', 'bright', '.']\n",
      "['love', 'the', 'moonlight', 'wa', 'as', 'it', 'glanc', 'and', 'gleam', 'on', 'the', 'water', ',', 'gleam', 'on', 'the', 'column', 'of', 'cypress', 'and', 'cedar', 'sustain', 'the', 'arch', ',', 'down', 'through', 'whose', 'broken', 'vault', 'it', 'fell', 'as', 'through', 'chink', 'in', 'a', 'ruin.dreamlik', ',', 'and', 'indistinct', ',', 'and', 'strang', 'were', 'all', 'thing', 'around', 'them', ';', 'and', \"o'er\", 'their', 'spirit']\n",
      "['My', 'heart', 'leap', 'up', 'when', 'I', 'behold', 'A', 'rainbow', 'in', 'the', 'sky', ':', 'So', 'wa', 'it', 'when', 'my', 'life', 'began', ';', 'So', 'is', 'it', 'now', 'I', 'am', 'a', 'man', ';', 'So', 'be', 'it', 'when', 'I', 'shall', 'grow', 'old', ',', 'Or', 'let', 'me', 'die', '!', 'the', 'child', 'is', 'father', 'of', 'the', 'man', ';', 'and']\n",
      "['O', 'wild', 'west', 'wind', ',', 'thou', 'breath', 'of', 'autumn', \"'s\", 'be', ',', 'thou', ',', 'from', 'whose', 'unseen', 'presenc', 'the', 'leav', 'dead', 'are', 'driven', ',', 'like', 'ghost', 'from', 'an', 'enchant', 'flee', ',', 'yellow', ',', 'and', 'black', ',', 'and', 'pale', ',', 'and', 'hectic', 'red', ',', 'pestilence-stricken', 'multitud', ':', 'O', 'thou', ',', 'who', 'chariotest', 'to', 'their', 'dark', 'wintri', 'bedth', 'wingèd', 'seed', ',', 'where', 'they', 'lie', 'cold', 'and', 'low', ',', 'each', 'like', 'a', 'corps']\n",
      "['still', 'turnstil', 'frame', 'by', 'a', 'window', 'the', 'red', 'alder', 'of', 'willapa', 'bay', '[']\n",
      "['though', 'neither', 'you', 'nor', 'I', 'saw', 'flower', 'pistachio', 'treesin', 'the', 'hang', 'garden', 'of', 'babylon', ',', 'though', 'neithery', 'nor', 'I', 'saw', 'the', 'tigri', 'river', 'stain', 'with', 'ink', ',', 'though', 'we', 'never', 'heard', 'a', 'pistachio', 'shell', 'dehisc', ',', 'we', 'have', 'taken', 'turn', 'hold', 'a', 'panda', 'as', 'it', 'munchedon', 'bamboo', 'leav', ',', 'and', 'I', 'know', 'that', 'rustl', 'now.i', 'have']\n",
      "['To', 'pick', 'a', 'tulip', 'from', 'the', 'garden', ',', 'the', 'red', 'one', '.', 'To', 'put', 'it', 'on', 'the', 'desk', 'In', 'the', 'small', 'blue', 'vase', ',', 'here', '.', 'No', ',', 'here.to', 'inclin', 'toward', 'it', 'then', ',', 'as', 'if', 'the', 'flower', 'could', 'teach', 'me', 'someth', 'Of', 'it', 'art.of', 'my', 'own', 'art', '.', 'when', 'did', 'we', 'forget']\n",
      "['We', 'are', 'as', 'cloud', 'that', 'veil', 'the', 'midnight', 'moon', ';', 'how', 'restlessli', 'they', 'speed', ',', 'and', 'gleam', ',', 'and', 'quiver', ',', 'streak', 'the', 'dark', 'radiantli', '!', '—yet', 'soon', 'night', 'close', 'round', ',', 'and', 'they', 'are', 'lost', 'for', 'ever', ':', 'Or', 'like', 'forgotten', 'lyre', ',', 'whose', 'disson', 'string', 'give', 'variou', 'respons', 'to', 'each', 'vari', 'blast', ',', 'To', 'whose', 'frail', 'frame', 'no']\n",
      "['when', 'pull', ',', 'the', 'spider', 'web', 'took', 'anoth', 'form.th', 'bull', '’', 's-ey', 'relax', ',', 'the', 'bull', 'unseen', 'but', 'felt', ',', 'skull', 'on', 'muscl', 'paus', 'on', 'the', 'forest', 'floor.th', 'girl', 'said', 'oh', ',', 'as', 'she', 'had', 'heard', 'her', 'mothersay', 'befor', '.', 'the', 'spider', 'had', 'alreadi', 'hiddenin', 'the', 'labyrinth', 'of', 'a', 'tree', '.', 'the', 'citi', 'ranon', 'coal', 'and', 'gasolin', 'as', 'it']\n",
      "['whose', 'wood', 'these', 'are', 'I', 'think', 'I', 'know', '.', 'hi', 'hous', 'is', 'in', 'the', 'villag', 'though']\n",
      "['you', 'can', 'make', 'the', 'mapl', 'blazejust', 'by', 'stop', 'to', 'look', ',', 'you', 'can', 'set', 'your', 'clock', 'to', 'the', 'barksof', 'gees', '.', 'somewher', 'the', 'grandfatherswho', 'own', 'thi', 'town', 'lean', 'down', 'to', 'ironcrisp', 'blue', 'shirt', ',', 'their', 'face', 'bathingin', 'steam', ',', 'and', 'blackbirdsclamor', 'in', 'pack', ',', 'make', 'plan', 'behind', 'corn', '.']\n"
     ]
    }
   ],
   "source": [
    "data['stem'] = data['Poem'].apply(temm)"
   ]
  },
  {
   "cell_type": "code",
   "execution_count": null,
   "id": "d576dfed",
   "metadata": {
    "papermill": {
     "duration": 0.009521,
     "end_time": "2024-07-17T11:11:16.048060",
     "exception": false,
     "start_time": "2024-07-17T11:11:16.038539",
     "status": "completed"
    },
    "tags": []
   },
   "outputs": [],
   "source": []
  }
 ],
 "metadata": {
  "kaggle": {
   "accelerator": "none",
   "dataSources": [
    {
     "datasetId": 2464675,
     "sourceId": 4177116,
     "sourceType": "datasetVersion"
    },
    {
     "datasetId": 3384,
     "sourceId": 5666,
     "sourceType": "datasetVersion"
    }
   ],
   "isGpuEnabled": false,
   "isInternetEnabled": false,
   "language": "python",
   "sourceType": "notebook"
  },
  "kernelspec": {
   "display_name": "Python 3",
   "language": "python",
   "name": "python3"
  },
  "language_info": {
   "codemirror_mode": {
    "name": "ipython",
    "version": 3
   },
   "file_extension": ".py",
   "mimetype": "text/x-python",
   "name": "python",
   "nbconvert_exporter": "python",
   "pygments_lexer": "ipython3",
   "version": "3.10.13"
  },
  "papermill": {
   "default_parameters": {},
   "duration": 59.122618,
   "end_time": "2024-07-17T11:11:18.311362",
   "environment_variables": {},
   "exception": null,
   "input_path": "__notebook__.ipynb",
   "output_path": "__notebook__.ipynb",
   "parameters": {},
   "start_time": "2024-07-17T11:10:19.188744",
   "version": "2.5.0"
  }
 },
 "nbformat": 4,
 "nbformat_minor": 5
}
